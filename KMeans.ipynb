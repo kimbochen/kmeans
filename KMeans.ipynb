{
 "cells": [
  {
   "cell_type": "code",
   "execution_count": 1,
   "id": "cc31b3f9",
   "metadata": {},
   "outputs": [],
   "source": [
    "import numpy as np\n",
    "import sklearn.cluster as clr"
   ]
  },
  {
   "cell_type": "code",
   "execution_count": 2,
   "id": "412359c3",
   "metadata": {},
   "outputs": [],
   "source": [
    "rng = np.random.default_rng(3985)"
   ]
  },
  {
   "cell_type": "markdown",
   "id": "aec42ebe",
   "metadata": {},
   "source": [
    "## API Usage"
   ]
  },
  {
   "cell_type": "code",
   "execution_count": 49,
   "id": "24e6c2a8",
   "metadata": {},
   "outputs": [],
   "source": [
    "N_CLRS = 3\n",
    "N_FEATS = 3\n",
    "N_PTS = 10"
   ]
  },
  {
   "cell_type": "code",
   "execution_count": 50,
   "id": "ce809682",
   "metadata": {},
   "outputs": [
    {
     "data": {
      "text/plain": [
       "array([[1, 4, 8],\n",
       "       [6, 0, 0],\n",
       "       [7, 2, 6],\n",
       "       [8, 4, 8],\n",
       "       [1, 3, 9],\n",
       "       [5, 7, 5],\n",
       "       [6, 4, 2],\n",
       "       [8, 5, 3],\n",
       "       [7, 5, 8],\n",
       "       [5, 7, 2]])"
      ]
     },
     "execution_count": 50,
     "metadata": {},
     "output_type": "execute_result"
    }
   ],
   "source": [
    "points = rng.integers(0, 10, [N_PTS, N_FEATS])\n",
    "points"
   ]
  },
  {
   "cell_type": "code",
   "execution_count": 52,
   "id": "db1602b6",
   "metadata": {},
   "outputs": [
    {
     "data": {
      "text/plain": [
       "array([[7, 2, 6],\n",
       "       [5, 7, 2],\n",
       "       [8, 5, 3]])"
      ]
     },
     "execution_count": 52,
     "metadata": {},
     "output_type": "execute_result"
    }
   ],
   "source": [
    "init_idxs = rng.integers(0, N_PTS, N_CLRS)\n",
    "init_pts = points[init_idxs]\n",
    "init_pts"
   ]
  },
  {
   "cell_type": "code",
   "execution_count": 53,
   "id": "5be12783",
   "metadata": {},
   "outputs": [],
   "source": [
    "km = clr.KMeans(\n",
    "    n_clusters=N_CLRS, init=init_pts, n_init=1, max_iter=300,\n",
    "    random_state=3985, algorithm='lloyd', verbose=1\n",
    ")"
   ]
  },
  {
   "cell_type": "code",
   "execution_count": 54,
   "id": "c0422bc7",
   "metadata": {},
   "outputs": [
    {
     "name": "stdout",
     "output_type": "stream",
     "text": [
      "Initialization complete\n",
      "Iteration 0, inertia 165.0.\n",
      "Iteration 1, inertia 84.63333333333334.\n",
      "Converged at iteration 1: strict convergence.\n"
     ]
    },
    {
     "data": {
      "text/html": [
       "<style>#sk-container-id-8 {color: black;background-color: white;}#sk-container-id-8 pre{padding: 0;}#sk-container-id-8 div.sk-toggleable {background-color: white;}#sk-container-id-8 label.sk-toggleable__label {cursor: pointer;display: block;width: 100%;margin-bottom: 0;padding: 0.3em;box-sizing: border-box;text-align: center;}#sk-container-id-8 label.sk-toggleable__label-arrow:before {content: \"▸\";float: left;margin-right: 0.25em;color: #696969;}#sk-container-id-8 label.sk-toggleable__label-arrow:hover:before {color: black;}#sk-container-id-8 div.sk-estimator:hover label.sk-toggleable__label-arrow:before {color: black;}#sk-container-id-8 div.sk-toggleable__content {max-height: 0;max-width: 0;overflow: hidden;text-align: left;background-color: #f0f8ff;}#sk-container-id-8 div.sk-toggleable__content pre {margin: 0.2em;color: black;border-radius: 0.25em;background-color: #f0f8ff;}#sk-container-id-8 input.sk-toggleable__control:checked~div.sk-toggleable__content {max-height: 200px;max-width: 100%;overflow: auto;}#sk-container-id-8 input.sk-toggleable__control:checked~label.sk-toggleable__label-arrow:before {content: \"▾\";}#sk-container-id-8 div.sk-estimator input.sk-toggleable__control:checked~label.sk-toggleable__label {background-color: #d4ebff;}#sk-container-id-8 div.sk-label input.sk-toggleable__control:checked~label.sk-toggleable__label {background-color: #d4ebff;}#sk-container-id-8 input.sk-hidden--visually {border: 0;clip: rect(1px 1px 1px 1px);clip: rect(1px, 1px, 1px, 1px);height: 1px;margin: -1px;overflow: hidden;padding: 0;position: absolute;width: 1px;}#sk-container-id-8 div.sk-estimator {font-family: monospace;background-color: #f0f8ff;border: 1px dotted black;border-radius: 0.25em;box-sizing: border-box;margin-bottom: 0.5em;}#sk-container-id-8 div.sk-estimator:hover {background-color: #d4ebff;}#sk-container-id-8 div.sk-parallel-item::after {content: \"\";width: 100%;border-bottom: 1px solid gray;flex-grow: 1;}#sk-container-id-8 div.sk-label:hover label.sk-toggleable__label {background-color: #d4ebff;}#sk-container-id-8 div.sk-serial::before {content: \"\";position: absolute;border-left: 1px solid gray;box-sizing: border-box;top: 0;bottom: 0;left: 50%;z-index: 0;}#sk-container-id-8 div.sk-serial {display: flex;flex-direction: column;align-items: center;background-color: white;padding-right: 0.2em;padding-left: 0.2em;position: relative;}#sk-container-id-8 div.sk-item {position: relative;z-index: 1;}#sk-container-id-8 div.sk-parallel {display: flex;align-items: stretch;justify-content: center;background-color: white;position: relative;}#sk-container-id-8 div.sk-item::before, #sk-container-id-8 div.sk-parallel-item::before {content: \"\";position: absolute;border-left: 1px solid gray;box-sizing: border-box;top: 0;bottom: 0;left: 50%;z-index: -1;}#sk-container-id-8 div.sk-parallel-item {display: flex;flex-direction: column;z-index: 1;position: relative;background-color: white;}#sk-container-id-8 div.sk-parallel-item:first-child::after {align-self: flex-end;width: 50%;}#sk-container-id-8 div.sk-parallel-item:last-child::after {align-self: flex-start;width: 50%;}#sk-container-id-8 div.sk-parallel-item:only-child::after {width: 0;}#sk-container-id-8 div.sk-dashed-wrapped {border: 1px dashed gray;margin: 0 0.4em 0.5em 0.4em;box-sizing: border-box;padding-bottom: 0.4em;background-color: white;}#sk-container-id-8 div.sk-label label {font-family: monospace;font-weight: bold;display: inline-block;line-height: 1.2em;}#sk-container-id-8 div.sk-label-container {text-align: center;}#sk-container-id-8 div.sk-container {/* jupyter's `normalize.less` sets `[hidden] { display: none; }` but bootstrap.min.css set `[hidden] { display: none !important; }` so we also need the `!important` here to be able to override the default hidden behavior on the sphinx rendered scikit-learn.org. See: https://github.com/scikit-learn/scikit-learn/issues/21755 */display: inline-block !important;position: relative;}#sk-container-id-8 div.sk-text-repr-fallback {display: none;}</style><div id=\"sk-container-id-8\" class=\"sk-top-container\"><div class=\"sk-text-repr-fallback\"><pre>KMeans(init=array([[7, 2, 6],\n",
       "       [5, 7, 2],\n",
       "       [8, 5, 3]]),\n",
       "       n_clusters=3, n_init=1, random_state=3985, verbose=1)</pre><b>In a Jupyter environment, please rerun this cell to show the HTML representation or trust the notebook. <br />On GitHub, the HTML representation is unable to render, please try loading this page with nbviewer.org.</b></div><div class=\"sk-container\" hidden><div class=\"sk-item\"><div class=\"sk-estimator sk-toggleable\"><input class=\"sk-toggleable__control sk-hidden--visually\" id=\"sk-estimator-id-8\" type=\"checkbox\" checked><label for=\"sk-estimator-id-8\" class=\"sk-toggleable__label sk-toggleable__label-arrow\">KMeans</label><div class=\"sk-toggleable__content\"><pre>KMeans(init=array([[7, 2, 6],\n",
       "       [5, 7, 2],\n",
       "       [8, 5, 3]]),\n",
       "       n_clusters=3, n_init=1, random_state=3985, verbose=1)</pre></div></div></div></div></div>"
      ],
      "text/plain": [
       "KMeans(init=array([[7, 2, 6],\n",
       "       [5, 7, 2],\n",
       "       [8, 5, 3]]),\n",
       "       n_clusters=3, n_init=1, random_state=3985, verbose=1)"
      ]
     },
     "execution_count": 54,
     "metadata": {},
     "output_type": "execute_result"
    }
   ],
   "source": [
    "km.fit(points)"
   ]
  },
  {
   "cell_type": "code",
   "execution_count": 55,
   "id": "d7fd38ca",
   "metadata": {
    "scrolled": false
   },
   "outputs": [
    {
     "data": {
      "text/plain": [
       "array([[4.8       , 3.6       , 7.8       ],\n",
       "       [5.        , 7.        , 3.5       ],\n",
       "       [6.66666667, 3.        , 1.66666667]])"
      ]
     },
     "execution_count": 55,
     "metadata": {},
     "output_type": "execute_result"
    }
   ],
   "source": [
    "km.cluster_centers_"
   ]
  },
  {
   "cell_type": "markdown",
   "id": "13ab3236",
   "metadata": {},
   "source": [
    "## Test Determinism"
   ]
  },
  {
   "cell_type": "code",
   "execution_count": 82,
   "id": "8de79b25",
   "metadata": {
    "scrolled": true
   },
   "outputs": [
    {
     "data": {
      "text/plain": [
       "array([[400],\n",
       "       [300],\n",
       "       [100],\n",
       "       [399],\n",
       "       [299],\n",
       "       [ 99],\n",
       "       [401],\n",
       "       [301],\n",
       "       [101],\n",
       "       [398],\n",
       "       [298],\n",
       "       [ 98],\n",
       "       [402],\n",
       "       [302],\n",
       "       [102]])"
      ]
     },
     "execution_count": 82,
     "metadata": {},
     "output_type": "execute_result"
    }
   ],
   "source": [
    "N_FEATS = 1\n",
    "points = rng.integers(0, 10, [N_CLRS, N_FEATS])\n",
    "points *= 100\n",
    "points = np.concatenate([points, points - 1, points + 1, points - 2, points + 2])\n",
    "points"
   ]
  },
  {
   "cell_type": "code",
   "execution_count": 83,
   "id": "032b996e",
   "metadata": {},
   "outputs": [
    {
     "data": {
      "text/plain": [
       "array([[400],\n",
       "       [300],\n",
       "       [100]])"
      ]
     },
     "execution_count": 83,
     "metadata": {},
     "output_type": "execute_result"
    }
   ],
   "source": [
    "N_PTS = points.shape[0]\n",
    "init_pts = points[:N_CLRS, :]\n",
    "init_pts"
   ]
  },
  {
   "cell_type": "markdown",
   "id": "68934b31",
   "metadata": {},
   "source": [
    "### First Time"
   ]
  },
  {
   "cell_type": "code",
   "execution_count": 84,
   "id": "52cf56eb",
   "metadata": {},
   "outputs": [
    {
     "name": "stdout",
     "output_type": "stream",
     "text": [
      "Initialization complete\n",
      "Iteration 0, inertia 30.0.\n",
      "Converged at iteration 0: center shift 8.077935669463161e-28 within tolerance 1.5557555555555558.\n"
     ]
    },
    {
     "data": {
      "text/html": [
       "<style>#sk-container-id-13 {color: black;background-color: white;}#sk-container-id-13 pre{padding: 0;}#sk-container-id-13 div.sk-toggleable {background-color: white;}#sk-container-id-13 label.sk-toggleable__label {cursor: pointer;display: block;width: 100%;margin-bottom: 0;padding: 0.3em;box-sizing: border-box;text-align: center;}#sk-container-id-13 label.sk-toggleable__label-arrow:before {content: \"▸\";float: left;margin-right: 0.25em;color: #696969;}#sk-container-id-13 label.sk-toggleable__label-arrow:hover:before {color: black;}#sk-container-id-13 div.sk-estimator:hover label.sk-toggleable__label-arrow:before {color: black;}#sk-container-id-13 div.sk-toggleable__content {max-height: 0;max-width: 0;overflow: hidden;text-align: left;background-color: #f0f8ff;}#sk-container-id-13 div.sk-toggleable__content pre {margin: 0.2em;color: black;border-radius: 0.25em;background-color: #f0f8ff;}#sk-container-id-13 input.sk-toggleable__control:checked~div.sk-toggleable__content {max-height: 200px;max-width: 100%;overflow: auto;}#sk-container-id-13 input.sk-toggleable__control:checked~label.sk-toggleable__label-arrow:before {content: \"▾\";}#sk-container-id-13 div.sk-estimator input.sk-toggleable__control:checked~label.sk-toggleable__label {background-color: #d4ebff;}#sk-container-id-13 div.sk-label input.sk-toggleable__control:checked~label.sk-toggleable__label {background-color: #d4ebff;}#sk-container-id-13 input.sk-hidden--visually {border: 0;clip: rect(1px 1px 1px 1px);clip: rect(1px, 1px, 1px, 1px);height: 1px;margin: -1px;overflow: hidden;padding: 0;position: absolute;width: 1px;}#sk-container-id-13 div.sk-estimator {font-family: monospace;background-color: #f0f8ff;border: 1px dotted black;border-radius: 0.25em;box-sizing: border-box;margin-bottom: 0.5em;}#sk-container-id-13 div.sk-estimator:hover {background-color: #d4ebff;}#sk-container-id-13 div.sk-parallel-item::after {content: \"\";width: 100%;border-bottom: 1px solid gray;flex-grow: 1;}#sk-container-id-13 div.sk-label:hover label.sk-toggleable__label {background-color: #d4ebff;}#sk-container-id-13 div.sk-serial::before {content: \"\";position: absolute;border-left: 1px solid gray;box-sizing: border-box;top: 0;bottom: 0;left: 50%;z-index: 0;}#sk-container-id-13 div.sk-serial {display: flex;flex-direction: column;align-items: center;background-color: white;padding-right: 0.2em;padding-left: 0.2em;position: relative;}#sk-container-id-13 div.sk-item {position: relative;z-index: 1;}#sk-container-id-13 div.sk-parallel {display: flex;align-items: stretch;justify-content: center;background-color: white;position: relative;}#sk-container-id-13 div.sk-item::before, #sk-container-id-13 div.sk-parallel-item::before {content: \"\";position: absolute;border-left: 1px solid gray;box-sizing: border-box;top: 0;bottom: 0;left: 50%;z-index: -1;}#sk-container-id-13 div.sk-parallel-item {display: flex;flex-direction: column;z-index: 1;position: relative;background-color: white;}#sk-container-id-13 div.sk-parallel-item:first-child::after {align-self: flex-end;width: 50%;}#sk-container-id-13 div.sk-parallel-item:last-child::after {align-self: flex-start;width: 50%;}#sk-container-id-13 div.sk-parallel-item:only-child::after {width: 0;}#sk-container-id-13 div.sk-dashed-wrapped {border: 1px dashed gray;margin: 0 0.4em 0.5em 0.4em;box-sizing: border-box;padding-bottom: 0.4em;background-color: white;}#sk-container-id-13 div.sk-label label {font-family: monospace;font-weight: bold;display: inline-block;line-height: 1.2em;}#sk-container-id-13 div.sk-label-container {text-align: center;}#sk-container-id-13 div.sk-container {/* jupyter's `normalize.less` sets `[hidden] { display: none; }` but bootstrap.min.css set `[hidden] { display: none !important; }` so we also need the `!important` here to be able to override the default hidden behavior on the sphinx rendered scikit-learn.org. See: https://github.com/scikit-learn/scikit-learn/issues/21755 */display: inline-block !important;position: relative;}#sk-container-id-13 div.sk-text-repr-fallback {display: none;}</style><div id=\"sk-container-id-13\" class=\"sk-top-container\"><div class=\"sk-text-repr-fallback\"><pre>KMeans(init=array([[400],\n",
       "       [300],\n",
       "       [100]]), n_clusters=3, n_init=1,\n",
       "       random_state=3985, verbose=1)</pre><b>In a Jupyter environment, please rerun this cell to show the HTML representation or trust the notebook. <br />On GitHub, the HTML representation is unable to render, please try loading this page with nbviewer.org.</b></div><div class=\"sk-container\" hidden><div class=\"sk-item\"><div class=\"sk-estimator sk-toggleable\"><input class=\"sk-toggleable__control sk-hidden--visually\" id=\"sk-estimator-id-13\" type=\"checkbox\" checked><label for=\"sk-estimator-id-13\" class=\"sk-toggleable__label sk-toggleable__label-arrow\">KMeans</label><div class=\"sk-toggleable__content\"><pre>KMeans(init=array([[400],\n",
       "       [300],\n",
       "       [100]]), n_clusters=3, n_init=1,\n",
       "       random_state=3985, verbose=1)</pre></div></div></div></div></div>"
      ],
      "text/plain": [
       "KMeans(init=array([[400],\n",
       "       [300],\n",
       "       [100]]), n_clusters=3, n_init=1,\n",
       "       random_state=3985, verbose=1)"
      ]
     },
     "execution_count": 84,
     "metadata": {},
     "output_type": "execute_result"
    }
   ],
   "source": [
    "km = clr.KMeans(\n",
    "    n_clusters=N_CLRS, init=init_pts, n_init=1, max_iter=300,\n",
    "    random_state=3985, algorithm='lloyd', verbose=1\n",
    ")\n",
    "km.fit(points)"
   ]
  },
  {
   "cell_type": "code",
   "execution_count": 85,
   "id": "78f47e1e",
   "metadata": {
    "scrolled": false
   },
   "outputs": [
    {
     "data": {
      "text/plain": [
       "array([[400.],\n",
       "       [300.],\n",
       "       [100.]])"
      ]
     },
     "execution_count": 85,
     "metadata": {},
     "output_type": "execute_result"
    }
   ],
   "source": [
    "km.cluster_centers_"
   ]
  },
  {
   "cell_type": "markdown",
   "id": "f7ead643",
   "metadata": {},
   "source": [
    "### Second Time"
   ]
  },
  {
   "cell_type": "code",
   "execution_count": 86,
   "id": "55840131",
   "metadata": {},
   "outputs": [
    {
     "name": "stdout",
     "output_type": "stream",
     "text": [
      "Initialization complete\n",
      "Iteration 0, inertia 30.0.\n",
      "Converged at iteration 0: center shift 8.077935669463161e-28 within tolerance 1.5557555555555558.\n"
     ]
    },
    {
     "data": {
      "text/html": [
       "<style>#sk-container-id-14 {color: black;background-color: white;}#sk-container-id-14 pre{padding: 0;}#sk-container-id-14 div.sk-toggleable {background-color: white;}#sk-container-id-14 label.sk-toggleable__label {cursor: pointer;display: block;width: 100%;margin-bottom: 0;padding: 0.3em;box-sizing: border-box;text-align: center;}#sk-container-id-14 label.sk-toggleable__label-arrow:before {content: \"▸\";float: left;margin-right: 0.25em;color: #696969;}#sk-container-id-14 label.sk-toggleable__label-arrow:hover:before {color: black;}#sk-container-id-14 div.sk-estimator:hover label.sk-toggleable__label-arrow:before {color: black;}#sk-container-id-14 div.sk-toggleable__content {max-height: 0;max-width: 0;overflow: hidden;text-align: left;background-color: #f0f8ff;}#sk-container-id-14 div.sk-toggleable__content pre {margin: 0.2em;color: black;border-radius: 0.25em;background-color: #f0f8ff;}#sk-container-id-14 input.sk-toggleable__control:checked~div.sk-toggleable__content {max-height: 200px;max-width: 100%;overflow: auto;}#sk-container-id-14 input.sk-toggleable__control:checked~label.sk-toggleable__label-arrow:before {content: \"▾\";}#sk-container-id-14 div.sk-estimator input.sk-toggleable__control:checked~label.sk-toggleable__label {background-color: #d4ebff;}#sk-container-id-14 div.sk-label input.sk-toggleable__control:checked~label.sk-toggleable__label {background-color: #d4ebff;}#sk-container-id-14 input.sk-hidden--visually {border: 0;clip: rect(1px 1px 1px 1px);clip: rect(1px, 1px, 1px, 1px);height: 1px;margin: -1px;overflow: hidden;padding: 0;position: absolute;width: 1px;}#sk-container-id-14 div.sk-estimator {font-family: monospace;background-color: #f0f8ff;border: 1px dotted black;border-radius: 0.25em;box-sizing: border-box;margin-bottom: 0.5em;}#sk-container-id-14 div.sk-estimator:hover {background-color: #d4ebff;}#sk-container-id-14 div.sk-parallel-item::after {content: \"\";width: 100%;border-bottom: 1px solid gray;flex-grow: 1;}#sk-container-id-14 div.sk-label:hover label.sk-toggleable__label {background-color: #d4ebff;}#sk-container-id-14 div.sk-serial::before {content: \"\";position: absolute;border-left: 1px solid gray;box-sizing: border-box;top: 0;bottom: 0;left: 50%;z-index: 0;}#sk-container-id-14 div.sk-serial {display: flex;flex-direction: column;align-items: center;background-color: white;padding-right: 0.2em;padding-left: 0.2em;position: relative;}#sk-container-id-14 div.sk-item {position: relative;z-index: 1;}#sk-container-id-14 div.sk-parallel {display: flex;align-items: stretch;justify-content: center;background-color: white;position: relative;}#sk-container-id-14 div.sk-item::before, #sk-container-id-14 div.sk-parallel-item::before {content: \"\";position: absolute;border-left: 1px solid gray;box-sizing: border-box;top: 0;bottom: 0;left: 50%;z-index: -1;}#sk-container-id-14 div.sk-parallel-item {display: flex;flex-direction: column;z-index: 1;position: relative;background-color: white;}#sk-container-id-14 div.sk-parallel-item:first-child::after {align-self: flex-end;width: 50%;}#sk-container-id-14 div.sk-parallel-item:last-child::after {align-self: flex-start;width: 50%;}#sk-container-id-14 div.sk-parallel-item:only-child::after {width: 0;}#sk-container-id-14 div.sk-dashed-wrapped {border: 1px dashed gray;margin: 0 0.4em 0.5em 0.4em;box-sizing: border-box;padding-bottom: 0.4em;background-color: white;}#sk-container-id-14 div.sk-label label {font-family: monospace;font-weight: bold;display: inline-block;line-height: 1.2em;}#sk-container-id-14 div.sk-label-container {text-align: center;}#sk-container-id-14 div.sk-container {/* jupyter's `normalize.less` sets `[hidden] { display: none; }` but bootstrap.min.css set `[hidden] { display: none !important; }` so we also need the `!important` here to be able to override the default hidden behavior on the sphinx rendered scikit-learn.org. See: https://github.com/scikit-learn/scikit-learn/issues/21755 */display: inline-block !important;position: relative;}#sk-container-id-14 div.sk-text-repr-fallback {display: none;}</style><div id=\"sk-container-id-14\" class=\"sk-top-container\"><div class=\"sk-text-repr-fallback\"><pre>KMeans(init=array([[400],\n",
       "       [300],\n",
       "       [100]]), n_clusters=3, n_init=1,\n",
       "       random_state=3985, verbose=1)</pre><b>In a Jupyter environment, please rerun this cell to show the HTML representation or trust the notebook. <br />On GitHub, the HTML representation is unable to render, please try loading this page with nbviewer.org.</b></div><div class=\"sk-container\" hidden><div class=\"sk-item\"><div class=\"sk-estimator sk-toggleable\"><input class=\"sk-toggleable__control sk-hidden--visually\" id=\"sk-estimator-id-14\" type=\"checkbox\" checked><label for=\"sk-estimator-id-14\" class=\"sk-toggleable__label sk-toggleable__label-arrow\">KMeans</label><div class=\"sk-toggleable__content\"><pre>KMeans(init=array([[400],\n",
       "       [300],\n",
       "       [100]]), n_clusters=3, n_init=1,\n",
       "       random_state=3985, verbose=1)</pre></div></div></div></div></div>"
      ],
      "text/plain": [
       "KMeans(init=array([[400],\n",
       "       [300],\n",
       "       [100]]), n_clusters=3, n_init=1,\n",
       "       random_state=3985, verbose=1)"
      ]
     },
     "execution_count": 86,
     "metadata": {},
     "output_type": "execute_result"
    }
   ],
   "source": [
    "km = clr.KMeans(\n",
    "    n_clusters=N_CLRS, init=init_pts, n_init=1, max_iter=300,\n",
    "    random_state=3985, algorithm='lloyd', verbose=1\n",
    ")\n",
    "km.fit(points)"
   ]
  },
  {
   "cell_type": "code",
   "execution_count": 88,
   "id": "caef4706",
   "metadata": {
    "scrolled": false
   },
   "outputs": [
    {
     "data": {
      "text/plain": [
       "array([[400.],\n",
       "       [300.],\n",
       "       [100.]])"
      ]
     },
     "execution_count": 88,
     "metadata": {},
     "output_type": "execute_result"
    }
   ],
   "source": [
    "km.cluster_centers_"
   ]
  },
  {
   "cell_type": "markdown",
   "id": "e11151b1",
   "metadata": {},
   "source": [
    "## Generate Testcases"
   ]
  },
  {
   "cell_type": "code",
   "execution_count": 53,
   "id": "d0788d53",
   "metadata": {},
   "outputs": [],
   "source": [
    "N_PTS = 1024\n",
    "N_FEATS = 128\n",
    "N_CLRS = 8"
   ]
  },
  {
   "cell_type": "code",
   "execution_count": 54,
   "id": "24b58ca8",
   "metadata": {},
   "outputs": [
    {
     "data": {
      "text/plain": [
       "array([[0.56317041, 0.95547997, 0.18312246, ..., 0.24811908, 0.36786775,\n",
       "        0.47234641],\n",
       "       [0.54234708, 0.78222908, 0.36823254, ..., 0.14482314, 0.75532335,\n",
       "        0.61035202],\n",
       "       [0.43228993, 0.93069523, 0.69397088, ..., 0.76438538, 0.76332209,\n",
       "        0.72476161],\n",
       "       ...,\n",
       "       [0.21329565, 0.49538786, 0.8798866 , ..., 0.83336527, 0.15184803,\n",
       "        0.21125614],\n",
       "       [0.07781889, 0.66145335, 0.30461088, ..., 0.8156401 , 0.66564087,\n",
       "        0.90632432],\n",
       "       [0.4581499 , 0.01187021, 0.62477843, ..., 0.79474108, 0.08554994,\n",
       "        0.47615746]])"
      ]
     },
     "execution_count": 54,
     "metadata": {},
     "output_type": "execute_result"
    }
   ],
   "source": [
    "points = rng.random([N_PTS, N_FEATS])\n",
    "points"
   ]
  },
  {
   "cell_type": "code",
   "execution_count": 55,
   "id": "13f09d22",
   "metadata": {},
   "outputs": [],
   "source": [
    "np.savetxt('tcase2.txt', points, fmt='%.8f', header=f'{N_PTS} {N_FEATS}')"
   ]
  },
  {
   "cell_type": "code",
   "execution_count": 56,
   "id": "240151f6",
   "metadata": {},
   "outputs": [
    {
     "data": {
      "text/plain": [
       "array([414, 822, 844, 114, 551, 299, 363, 235])"
      ]
     },
     "execution_count": 56,
     "metadata": {},
     "output_type": "execute_result"
    }
   ],
   "source": [
    "init_idxs = rng.integers(0, N_PTS, N_CLRS)\n",
    "init_idxs"
   ]
  },
  {
   "cell_type": "code",
   "execution_count": 57,
   "id": "a3d4ae28",
   "metadata": {},
   "outputs": [],
   "source": [
    "np.savetxt('tcase2_cfg.txt', init_idxs, fmt='%d', header=f'{N_CLRS}')"
   ]
  },
  {
   "cell_type": "code",
   "execution_count": 58,
   "id": "a92f3d3f",
   "metadata": {},
   "outputs": [
    {
     "name": "stdout",
     "output_type": "stream",
     "text": [
      "Initialization complete\n",
      "Iteration 0, inertia 18957.27895195155.\n",
      "Iteration 1, inertia 10628.102346552223.\n",
      "Iteration 2, inertia 10591.752657807843.\n",
      "Iteration 3, inertia 10574.047927286092.\n",
      "Iteration 4, inertia 10563.121857697406.\n",
      "Iteration 5, inertia 10555.615746436339.\n",
      "Iteration 6, inertia 10551.849081694167.\n",
      "Iteration 7, inertia 10548.228375788902.\n",
      "Iteration 8, inertia 10546.484426903466.\n",
      "Iteration 9, inertia 10545.101010073846.\n",
      "Iteration 10, inertia 10543.771685159825.\n",
      "Iteration 11, inertia 10543.606925631455.\n",
      "Converged at iteration 11: strict convergence.\n"
     ]
    },
    {
     "data": {
      "text/html": [
       "<style>#sk-container-id-7 {color: black;background-color: white;}#sk-container-id-7 pre{padding: 0;}#sk-container-id-7 div.sk-toggleable {background-color: white;}#sk-container-id-7 label.sk-toggleable__label {cursor: pointer;display: block;width: 100%;margin-bottom: 0;padding: 0.3em;box-sizing: border-box;text-align: center;}#sk-container-id-7 label.sk-toggleable__label-arrow:before {content: \"▸\";float: left;margin-right: 0.25em;color: #696969;}#sk-container-id-7 label.sk-toggleable__label-arrow:hover:before {color: black;}#sk-container-id-7 div.sk-estimator:hover label.sk-toggleable__label-arrow:before {color: black;}#sk-container-id-7 div.sk-toggleable__content {max-height: 0;max-width: 0;overflow: hidden;text-align: left;background-color: #f0f8ff;}#sk-container-id-7 div.sk-toggleable__content pre {margin: 0.2em;color: black;border-radius: 0.25em;background-color: #f0f8ff;}#sk-container-id-7 input.sk-toggleable__control:checked~div.sk-toggleable__content {max-height: 200px;max-width: 100%;overflow: auto;}#sk-container-id-7 input.sk-toggleable__control:checked~label.sk-toggleable__label-arrow:before {content: \"▾\";}#sk-container-id-7 div.sk-estimator input.sk-toggleable__control:checked~label.sk-toggleable__label {background-color: #d4ebff;}#sk-container-id-7 div.sk-label input.sk-toggleable__control:checked~label.sk-toggleable__label {background-color: #d4ebff;}#sk-container-id-7 input.sk-hidden--visually {border: 0;clip: rect(1px 1px 1px 1px);clip: rect(1px, 1px, 1px, 1px);height: 1px;margin: -1px;overflow: hidden;padding: 0;position: absolute;width: 1px;}#sk-container-id-7 div.sk-estimator {font-family: monospace;background-color: #f0f8ff;border: 1px dotted black;border-radius: 0.25em;box-sizing: border-box;margin-bottom: 0.5em;}#sk-container-id-7 div.sk-estimator:hover {background-color: #d4ebff;}#sk-container-id-7 div.sk-parallel-item::after {content: \"\";width: 100%;border-bottom: 1px solid gray;flex-grow: 1;}#sk-container-id-7 div.sk-label:hover label.sk-toggleable__label {background-color: #d4ebff;}#sk-container-id-7 div.sk-serial::before {content: \"\";position: absolute;border-left: 1px solid gray;box-sizing: border-box;top: 0;bottom: 0;left: 50%;z-index: 0;}#sk-container-id-7 div.sk-serial {display: flex;flex-direction: column;align-items: center;background-color: white;padding-right: 0.2em;padding-left: 0.2em;position: relative;}#sk-container-id-7 div.sk-item {position: relative;z-index: 1;}#sk-container-id-7 div.sk-parallel {display: flex;align-items: stretch;justify-content: center;background-color: white;position: relative;}#sk-container-id-7 div.sk-item::before, #sk-container-id-7 div.sk-parallel-item::before {content: \"\";position: absolute;border-left: 1px solid gray;box-sizing: border-box;top: 0;bottom: 0;left: 50%;z-index: -1;}#sk-container-id-7 div.sk-parallel-item {display: flex;flex-direction: column;z-index: 1;position: relative;background-color: white;}#sk-container-id-7 div.sk-parallel-item:first-child::after {align-self: flex-end;width: 50%;}#sk-container-id-7 div.sk-parallel-item:last-child::after {align-self: flex-start;width: 50%;}#sk-container-id-7 div.sk-parallel-item:only-child::after {width: 0;}#sk-container-id-7 div.sk-dashed-wrapped {border: 1px dashed gray;margin: 0 0.4em 0.5em 0.4em;box-sizing: border-box;padding-bottom: 0.4em;background-color: white;}#sk-container-id-7 div.sk-label label {font-family: monospace;font-weight: bold;display: inline-block;line-height: 1.2em;}#sk-container-id-7 div.sk-label-container {text-align: center;}#sk-container-id-7 div.sk-container {/* jupyter's `normalize.less` sets `[hidden] { display: none; }` but bootstrap.min.css set `[hidden] { display: none !important; }` so we also need the `!important` here to be able to override the default hidden behavior on the sphinx rendered scikit-learn.org. See: https://github.com/scikit-learn/scikit-learn/issues/21755 */display: inline-block !important;position: relative;}#sk-container-id-7 div.sk-text-repr-fallback {display: none;}</style><div id=\"sk-container-id-7\" class=\"sk-top-container\"><div class=\"sk-text-repr-fallback\"><pre>KMeans(init=array([[0.46844222, 0.54756619, 0.36111332, ..., 0.11239217, 0.15597298,\n",
       "        0.17064516],\n",
       "       [0.12981224, 0.97425168, 0.47519863, ..., 0.694163  , 0.0940981 ,\n",
       "        0.42271824],\n",
       "       [0.83902691, 0.20034395, 0.57073064, ..., 0.14460913, 0.45115221,\n",
       "        0.07098355],\n",
       "       ...,\n",
       "       [0.15152029, 0.85397605, 0.47182507, ..., 0.32966771, 0.88295883,\n",
       "        0.03751214],\n",
       "       [0.48115509, 0.85586397, 0.6773574 , ..., 0.90053089, 0.01618376,\n",
       "        0.81537324],\n",
       "       [0.76866974, 0.69316588, 0.4171244 , ..., 0.17853811, 0.53892584,\n",
       "        0.32082455]]),\n",
       "       n_init=1, random_state=3985, verbose=1)</pre><b>In a Jupyter environment, please rerun this cell to show the HTML representation or trust the notebook. <br />On GitHub, the HTML representation is unable to render, please try loading this page with nbviewer.org.</b></div><div class=\"sk-container\" hidden><div class=\"sk-item\"><div class=\"sk-estimator sk-toggleable\"><input class=\"sk-toggleable__control sk-hidden--visually\" id=\"sk-estimator-id-7\" type=\"checkbox\" checked><label for=\"sk-estimator-id-7\" class=\"sk-toggleable__label sk-toggleable__label-arrow\">KMeans</label><div class=\"sk-toggleable__content\"><pre>KMeans(init=array([[0.46844222, 0.54756619, 0.36111332, ..., 0.11239217, 0.15597298,\n",
       "        0.17064516],\n",
       "       [0.12981224, 0.97425168, 0.47519863, ..., 0.694163  , 0.0940981 ,\n",
       "        0.42271824],\n",
       "       [0.83902691, 0.20034395, 0.57073064, ..., 0.14460913, 0.45115221,\n",
       "        0.07098355],\n",
       "       ...,\n",
       "       [0.15152029, 0.85397605, 0.47182507, ..., 0.32966771, 0.88295883,\n",
       "        0.03751214],\n",
       "       [0.48115509, 0.85586397, 0.6773574 , ..., 0.90053089, 0.01618376,\n",
       "        0.81537324],\n",
       "       [0.76866974, 0.69316588, 0.4171244 , ..., 0.17853811, 0.53892584,\n",
       "        0.32082455]]),\n",
       "       n_init=1, random_state=3985, verbose=1)</pre></div></div></div></div></div>"
      ],
      "text/plain": [
       "KMeans(init=array([[0.46844222, 0.54756619, 0.36111332, ..., 0.11239217, 0.15597298,\n",
       "        0.17064516],\n",
       "       [0.12981224, 0.97425168, 0.47519863, ..., 0.694163  , 0.0940981 ,\n",
       "        0.42271824],\n",
       "       [0.83902691, 0.20034395, 0.57073064, ..., 0.14460913, 0.45115221,\n",
       "        0.07098355],\n",
       "       ...,\n",
       "       [0.15152029, 0.85397605, 0.47182507, ..., 0.32966771, 0.88295883,\n",
       "        0.03751214],\n",
       "       [0.48115509, 0.85586397, 0.6773574 , ..., 0.90053089, 0.01618376,\n",
       "        0.81537324],\n",
       "       [0.76866974, 0.69316588, 0.4171244 , ..., 0.17853811, 0.53892584,\n",
       "        0.32082455]]),\n",
       "       n_init=1, random_state=3985, verbose=1)"
      ]
     },
     "execution_count": 58,
     "metadata": {},
     "output_type": "execute_result"
    }
   ],
   "source": [
    "km = clr.KMeans(\n",
    "    n_clusters=N_CLRS, init=points[init_idxs], n_init=1, max_iter=300,\n",
    "    random_state=3985, algorithm='lloyd', verbose=1\n",
    ")\n",
    "km.fit(points)"
   ]
  },
  {
   "cell_type": "code",
   "execution_count": 60,
   "id": "66bc841d",
   "metadata": {},
   "outputs": [
    {
     "data": {
      "text/plain": [
       "10543.606925631455"
      ]
     },
     "execution_count": 60,
     "metadata": {},
     "output_type": "execute_result"
    }
   ],
   "source": [
    "km.inertia_"
   ]
  },
  {
   "cell_type": "markdown",
   "id": "7be10c71",
   "metadata": {},
   "source": [
    "### Simple Testcase"
   ]
  },
  {
   "cell_type": "code",
   "execution_count": 41,
   "id": "ba1626e4",
   "metadata": {},
   "outputs": [],
   "source": [
    "N_PTS = 10\n",
    "N_CLRS = 3\n",
    "N_FEATS = 2"
   ]
  },
  {
   "cell_type": "code",
   "execution_count": 42,
   "id": "e7463d8f",
   "metadata": {},
   "outputs": [
    {
     "data": {
      "text/plain": [
       "array([[300, 600],\n",
       "       [300, 500],\n",
       "       [500, 700],\n",
       "       [299, 599],\n",
       "       [299, 499],\n",
       "       [499, 699],\n",
       "       [301, 601],\n",
       "       [301, 501],\n",
       "       [501, 701],\n",
       "       [298, 598],\n",
       "       [298, 498],\n",
       "       [498, 698],\n",
       "       [302, 602],\n",
       "       [302, 502],\n",
       "       [502, 702]])"
      ]
     },
     "execution_count": 42,
     "metadata": {},
     "output_type": "execute_result"
    }
   ],
   "source": [
    "points = rng.integers(0, 10, [N_CLRS, N_FEATS])\n",
    "points *= 100\n",
    "points = np.concatenate([points, points - 1, points + 1, points - 2, points + 2])\n",
    "points"
   ]
  },
  {
   "cell_type": "code",
   "execution_count": 43,
   "id": "ffc290c2",
   "metadata": {},
   "outputs": [
    {
     "data": {
      "text/plain": [
       "array([0, 1, 2])"
      ]
     },
     "execution_count": 43,
     "metadata": {},
     "output_type": "execute_result"
    }
   ],
   "source": [
    "N_PTS = points.shape[0]\n",
    "init_idxs = np.arange(N_CLRS)\n",
    "init_idxs"
   ]
  },
  {
   "cell_type": "code",
   "execution_count": 44,
   "id": "d0601f97",
   "metadata": {},
   "outputs": [],
   "source": [
    "np.savetxt('tcase1.txt', points, fmt='%.8f', header=f'{N_PTS} {N_FEATS}')\n",
    "np.savetxt('tcase1_cfg.txt', init_idxs, fmt='%d', header=f'{N_CLRS}')"
   ]
  },
  {
   "cell_type": "code",
   "execution_count": 45,
   "id": "36c43bf6",
   "metadata": {},
   "outputs": [
    {
     "name": "stdout",
     "output_type": "stream",
     "text": [
      "Initialization complete\n",
      "Iteration 0, inertia 60.0.\n",
      "Converged at iteration 0: center shift 0.0 within tolerance 0.7779777777777778.\n"
     ]
    },
    {
     "data": {
      "text/html": [
       "<style>#sk-container-id-5 {color: black;background-color: white;}#sk-container-id-5 pre{padding: 0;}#sk-container-id-5 div.sk-toggleable {background-color: white;}#sk-container-id-5 label.sk-toggleable__label {cursor: pointer;display: block;width: 100%;margin-bottom: 0;padding: 0.3em;box-sizing: border-box;text-align: center;}#sk-container-id-5 label.sk-toggleable__label-arrow:before {content: \"▸\";float: left;margin-right: 0.25em;color: #696969;}#sk-container-id-5 label.sk-toggleable__label-arrow:hover:before {color: black;}#sk-container-id-5 div.sk-estimator:hover label.sk-toggleable__label-arrow:before {color: black;}#sk-container-id-5 div.sk-toggleable__content {max-height: 0;max-width: 0;overflow: hidden;text-align: left;background-color: #f0f8ff;}#sk-container-id-5 div.sk-toggleable__content pre {margin: 0.2em;color: black;border-radius: 0.25em;background-color: #f0f8ff;}#sk-container-id-5 input.sk-toggleable__control:checked~div.sk-toggleable__content {max-height: 200px;max-width: 100%;overflow: auto;}#sk-container-id-5 input.sk-toggleable__control:checked~label.sk-toggleable__label-arrow:before {content: \"▾\";}#sk-container-id-5 div.sk-estimator input.sk-toggleable__control:checked~label.sk-toggleable__label {background-color: #d4ebff;}#sk-container-id-5 div.sk-label input.sk-toggleable__control:checked~label.sk-toggleable__label {background-color: #d4ebff;}#sk-container-id-5 input.sk-hidden--visually {border: 0;clip: rect(1px 1px 1px 1px);clip: rect(1px, 1px, 1px, 1px);height: 1px;margin: -1px;overflow: hidden;padding: 0;position: absolute;width: 1px;}#sk-container-id-5 div.sk-estimator {font-family: monospace;background-color: #f0f8ff;border: 1px dotted black;border-radius: 0.25em;box-sizing: border-box;margin-bottom: 0.5em;}#sk-container-id-5 div.sk-estimator:hover {background-color: #d4ebff;}#sk-container-id-5 div.sk-parallel-item::after {content: \"\";width: 100%;border-bottom: 1px solid gray;flex-grow: 1;}#sk-container-id-5 div.sk-label:hover label.sk-toggleable__label {background-color: #d4ebff;}#sk-container-id-5 div.sk-serial::before {content: \"\";position: absolute;border-left: 1px solid gray;box-sizing: border-box;top: 0;bottom: 0;left: 50%;z-index: 0;}#sk-container-id-5 div.sk-serial {display: flex;flex-direction: column;align-items: center;background-color: white;padding-right: 0.2em;padding-left: 0.2em;position: relative;}#sk-container-id-5 div.sk-item {position: relative;z-index: 1;}#sk-container-id-5 div.sk-parallel {display: flex;align-items: stretch;justify-content: center;background-color: white;position: relative;}#sk-container-id-5 div.sk-item::before, #sk-container-id-5 div.sk-parallel-item::before {content: \"\";position: absolute;border-left: 1px solid gray;box-sizing: border-box;top: 0;bottom: 0;left: 50%;z-index: -1;}#sk-container-id-5 div.sk-parallel-item {display: flex;flex-direction: column;z-index: 1;position: relative;background-color: white;}#sk-container-id-5 div.sk-parallel-item:first-child::after {align-self: flex-end;width: 50%;}#sk-container-id-5 div.sk-parallel-item:last-child::after {align-self: flex-start;width: 50%;}#sk-container-id-5 div.sk-parallel-item:only-child::after {width: 0;}#sk-container-id-5 div.sk-dashed-wrapped {border: 1px dashed gray;margin: 0 0.4em 0.5em 0.4em;box-sizing: border-box;padding-bottom: 0.4em;background-color: white;}#sk-container-id-5 div.sk-label label {font-family: monospace;font-weight: bold;display: inline-block;line-height: 1.2em;}#sk-container-id-5 div.sk-label-container {text-align: center;}#sk-container-id-5 div.sk-container {/* jupyter's `normalize.less` sets `[hidden] { display: none; }` but bootstrap.min.css set `[hidden] { display: none !important; }` so we also need the `!important` here to be able to override the default hidden behavior on the sphinx rendered scikit-learn.org. See: https://github.com/scikit-learn/scikit-learn/issues/21755 */display: inline-block !important;position: relative;}#sk-container-id-5 div.sk-text-repr-fallback {display: none;}</style><div id=\"sk-container-id-5\" class=\"sk-top-container\"><div class=\"sk-text-repr-fallback\"><pre>KMeans(init=array([[300, 600],\n",
       "       [300, 500],\n",
       "       [500, 700]]),\n",
       "       n_clusters=3, n_init=1, random_state=3985, verbose=1)</pre><b>In a Jupyter environment, please rerun this cell to show the HTML representation or trust the notebook. <br />On GitHub, the HTML representation is unable to render, please try loading this page with nbviewer.org.</b></div><div class=\"sk-container\" hidden><div class=\"sk-item\"><div class=\"sk-estimator sk-toggleable\"><input class=\"sk-toggleable__control sk-hidden--visually\" id=\"sk-estimator-id-5\" type=\"checkbox\" checked><label for=\"sk-estimator-id-5\" class=\"sk-toggleable__label sk-toggleable__label-arrow\">KMeans</label><div class=\"sk-toggleable__content\"><pre>KMeans(init=array([[300, 600],\n",
       "       [300, 500],\n",
       "       [500, 700]]),\n",
       "       n_clusters=3, n_init=1, random_state=3985, verbose=1)</pre></div></div></div></div></div>"
      ],
      "text/plain": [
       "KMeans(init=array([[300, 600],\n",
       "       [300, 500],\n",
       "       [500, 700]]),\n",
       "       n_clusters=3, n_init=1, random_state=3985, verbose=1)"
      ]
     },
     "execution_count": 45,
     "metadata": {},
     "output_type": "execute_result"
    }
   ],
   "source": [
    "km = clr.KMeans(\n",
    "    n_clusters=N_CLRS, init=points[init_idxs], n_init=1, max_iter=300,\n",
    "    random_state=3985, algorithm='lloyd', verbose=1\n",
    ")\n",
    "km.fit(points)"
   ]
  },
  {
   "cell_type": "code",
   "execution_count": 46,
   "id": "357c7dc1",
   "metadata": {},
   "outputs": [
    {
     "data": {
      "text/plain": [
       "array([[300, 600],\n",
       "       [300, 500],\n",
       "       [500, 700]], dtype=int32)"
      ]
     },
     "execution_count": 46,
     "metadata": {},
     "output_type": "execute_result"
    }
   ],
   "source": [
    "np.int32(km.cluster_centers_)"
   ]
  },
  {
   "cell_type": "code",
   "execution_count": 50,
   "id": "3a54c3ca",
   "metadata": {},
   "outputs": [],
   "source": [
    "np.savetxt('tcase1_gt.txt', km.cluster_centers_, fmt='%.8f', header=f'{N_CLRS} {N_FEATS}')"
   ]
  },
  {
   "cell_type": "code",
   "execution_count": 48,
   "id": "69a7cc30",
   "metadata": {},
   "outputs": [
    {
     "name": "stdout",
     "output_type": "stream",
     "text": [
      "300.00000000 600.00000000\r\n",
      "300.00000000 500.00000000\r\n",
      "500.00000000 700.00000000\r\n"
     ]
    }
   ],
   "source": [
    "!cat tcase1_gt.txt"
   ]
  }
 ],
 "metadata": {
  "kernelspec": {
   "display_name": "Python 3 (ipykernel)",
   "language": "python",
   "name": "python3"
  },
  "language_info": {
   "codemirror_mode": {
    "name": "ipython",
    "version": 3
   },
   "file_extension": ".py",
   "mimetype": "text/x-python",
   "name": "python",
   "nbconvert_exporter": "python",
   "pygments_lexer": "ipython3",
   "version": "3.8.10"
  }
 },
 "nbformat": 4,
 "nbformat_minor": 5
}
