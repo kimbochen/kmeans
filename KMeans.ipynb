{
 "cells": [
  {
   "cell_type": "code",
   "execution_count": 1,
   "id": "cc31b3f9",
   "metadata": {},
   "outputs": [],
   "source": [
    "import numpy as np\n",
    "import sklearn.cluster as clr"
   ]
  },
  {
   "cell_type": "code",
   "execution_count": 2,
   "id": "412359c3",
   "metadata": {},
   "outputs": [],
   "source": [
    "rng = np.random.default_rng(3985)"
   ]
  },
  {
   "cell_type": "markdown",
   "id": "aec42ebe",
   "metadata": {},
   "source": [
    "## API Usage"
   ]
  },
  {
   "cell_type": "code",
   "execution_count": 49,
   "id": "24e6c2a8",
   "metadata": {},
   "outputs": [],
   "source": [
    "N_CLRS = 3\n",
    "N_FEATS = 3\n",
    "N_PTS = 10"
   ]
  },
  {
   "cell_type": "code",
   "execution_count": 50,
   "id": "ce809682",
   "metadata": {},
   "outputs": [
    {
     "data": {
      "text/plain": [
       "array([[1, 4, 8],\n",
       "       [6, 0, 0],\n",
       "       [7, 2, 6],\n",
       "       [8, 4, 8],\n",
       "       [1, 3, 9],\n",
       "       [5, 7, 5],\n",
       "       [6, 4, 2],\n",
       "       [8, 5, 3],\n",
       "       [7, 5, 8],\n",
       "       [5, 7, 2]])"
      ]
     },
     "execution_count": 50,
     "metadata": {},
     "output_type": "execute_result"
    }
   ],
   "source": [
    "points = rng.integers(0, 10, [N_PTS, N_FEATS])\n",
    "points"
   ]
  },
  {
   "cell_type": "code",
   "execution_count": 52,
   "id": "db1602b6",
   "metadata": {},
   "outputs": [
    {
     "data": {
      "text/plain": [
       "array([[7, 2, 6],\n",
       "       [5, 7, 2],\n",
       "       [8, 5, 3]])"
      ]
     },
     "execution_count": 52,
     "metadata": {},
     "output_type": "execute_result"
    }
   ],
   "source": [
    "init_idxs = rng.integers(0, N_PTS, N_CLRS)\n",
    "init_pts = points[init_idxs]\n",
    "init_pts"
   ]
  },
  {
   "cell_type": "code",
   "execution_count": 53,
   "id": "5be12783",
   "metadata": {},
   "outputs": [],
   "source": [
    "km = clr.KMeans(\n",
    "    n_clusters=N_CLRS, init=init_pts, n_init=1, max_iter=300,\n",
    "    random_state=3985, algorithm='lloyd', verbose=1\n",
    ")"
   ]
  },
  {
   "cell_type": "code",
   "execution_count": 54,
   "id": "c0422bc7",
   "metadata": {},
   "outputs": [
    {
     "name": "stdout",
     "output_type": "stream",
     "text": [
      "Initialization complete\n",
      "Iteration 0, inertia 165.0.\n",
      "Iteration 1, inertia 84.63333333333334.\n",
      "Converged at iteration 1: strict convergence.\n"
     ]
    },
    {
     "data": {
      "text/html": [
       "<style>#sk-container-id-8 {color: black;background-color: white;}#sk-container-id-8 pre{padding: 0;}#sk-container-id-8 div.sk-toggleable {background-color: white;}#sk-container-id-8 label.sk-toggleable__label {cursor: pointer;display: block;width: 100%;margin-bottom: 0;padding: 0.3em;box-sizing: border-box;text-align: center;}#sk-container-id-8 label.sk-toggleable__label-arrow:before {content: \"▸\";float: left;margin-right: 0.25em;color: #696969;}#sk-container-id-8 label.sk-toggleable__label-arrow:hover:before {color: black;}#sk-container-id-8 div.sk-estimator:hover label.sk-toggleable__label-arrow:before {color: black;}#sk-container-id-8 div.sk-toggleable__content {max-height: 0;max-width: 0;overflow: hidden;text-align: left;background-color: #f0f8ff;}#sk-container-id-8 div.sk-toggleable__content pre {margin: 0.2em;color: black;border-radius: 0.25em;background-color: #f0f8ff;}#sk-container-id-8 input.sk-toggleable__control:checked~div.sk-toggleable__content {max-height: 200px;max-width: 100%;overflow: auto;}#sk-container-id-8 input.sk-toggleable__control:checked~label.sk-toggleable__label-arrow:before {content: \"▾\";}#sk-container-id-8 div.sk-estimator input.sk-toggleable__control:checked~label.sk-toggleable__label {background-color: #d4ebff;}#sk-container-id-8 div.sk-label input.sk-toggleable__control:checked~label.sk-toggleable__label {background-color: #d4ebff;}#sk-container-id-8 input.sk-hidden--visually {border: 0;clip: rect(1px 1px 1px 1px);clip: rect(1px, 1px, 1px, 1px);height: 1px;margin: -1px;overflow: hidden;padding: 0;position: absolute;width: 1px;}#sk-container-id-8 div.sk-estimator {font-family: monospace;background-color: #f0f8ff;border: 1px dotted black;border-radius: 0.25em;box-sizing: border-box;margin-bottom: 0.5em;}#sk-container-id-8 div.sk-estimator:hover {background-color: #d4ebff;}#sk-container-id-8 div.sk-parallel-item::after {content: \"\";width: 100%;border-bottom: 1px solid gray;flex-grow: 1;}#sk-container-id-8 div.sk-label:hover label.sk-toggleable__label {background-color: #d4ebff;}#sk-container-id-8 div.sk-serial::before {content: \"\";position: absolute;border-left: 1px solid gray;box-sizing: border-box;top: 0;bottom: 0;left: 50%;z-index: 0;}#sk-container-id-8 div.sk-serial {display: flex;flex-direction: column;align-items: center;background-color: white;padding-right: 0.2em;padding-left: 0.2em;position: relative;}#sk-container-id-8 div.sk-item {position: relative;z-index: 1;}#sk-container-id-8 div.sk-parallel {display: flex;align-items: stretch;justify-content: center;background-color: white;position: relative;}#sk-container-id-8 div.sk-item::before, #sk-container-id-8 div.sk-parallel-item::before {content: \"\";position: absolute;border-left: 1px solid gray;box-sizing: border-box;top: 0;bottom: 0;left: 50%;z-index: -1;}#sk-container-id-8 div.sk-parallel-item {display: flex;flex-direction: column;z-index: 1;position: relative;background-color: white;}#sk-container-id-8 div.sk-parallel-item:first-child::after {align-self: flex-end;width: 50%;}#sk-container-id-8 div.sk-parallel-item:last-child::after {align-self: flex-start;width: 50%;}#sk-container-id-8 div.sk-parallel-item:only-child::after {width: 0;}#sk-container-id-8 div.sk-dashed-wrapped {border: 1px dashed gray;margin: 0 0.4em 0.5em 0.4em;box-sizing: border-box;padding-bottom: 0.4em;background-color: white;}#sk-container-id-8 div.sk-label label {font-family: monospace;font-weight: bold;display: inline-block;line-height: 1.2em;}#sk-container-id-8 div.sk-label-container {text-align: center;}#sk-container-id-8 div.sk-container {/* jupyter's `normalize.less` sets `[hidden] { display: none; }` but bootstrap.min.css set `[hidden] { display: none !important; }` so we also need the `!important` here to be able to override the default hidden behavior on the sphinx rendered scikit-learn.org. See: https://github.com/scikit-learn/scikit-learn/issues/21755 */display: inline-block !important;position: relative;}#sk-container-id-8 div.sk-text-repr-fallback {display: none;}</style><div id=\"sk-container-id-8\" class=\"sk-top-container\"><div class=\"sk-text-repr-fallback\"><pre>KMeans(init=array([[7, 2, 6],\n",
       "       [5, 7, 2],\n",
       "       [8, 5, 3]]),\n",
       "       n_clusters=3, n_init=1, random_state=3985, verbose=1)</pre><b>In a Jupyter environment, please rerun this cell to show the HTML representation or trust the notebook. <br />On GitHub, the HTML representation is unable to render, please try loading this page with nbviewer.org.</b></div><div class=\"sk-container\" hidden><div class=\"sk-item\"><div class=\"sk-estimator sk-toggleable\"><input class=\"sk-toggleable__control sk-hidden--visually\" id=\"sk-estimator-id-8\" type=\"checkbox\" checked><label for=\"sk-estimator-id-8\" class=\"sk-toggleable__label sk-toggleable__label-arrow\">KMeans</label><div class=\"sk-toggleable__content\"><pre>KMeans(init=array([[7, 2, 6],\n",
       "       [5, 7, 2],\n",
       "       [8, 5, 3]]),\n",
       "       n_clusters=3, n_init=1, random_state=3985, verbose=1)</pre></div></div></div></div></div>"
      ],
      "text/plain": [
       "KMeans(init=array([[7, 2, 6],\n",
       "       [5, 7, 2],\n",
       "       [8, 5, 3]]),\n",
       "       n_clusters=3, n_init=1, random_state=3985, verbose=1)"
      ]
     },
     "execution_count": 54,
     "metadata": {},
     "output_type": "execute_result"
    }
   ],
   "source": [
    "km.fit(points)"
   ]
  },
  {
   "cell_type": "code",
   "execution_count": 55,
   "id": "d7fd38ca",
   "metadata": {
    "scrolled": false
   },
   "outputs": [
    {
     "data": {
      "text/plain": [
       "array([[4.8       , 3.6       , 7.8       ],\n",
       "       [5.        , 7.        , 3.5       ],\n",
       "       [6.66666667, 3.        , 1.66666667]])"
      ]
     },
     "execution_count": 55,
     "metadata": {},
     "output_type": "execute_result"
    }
   ],
   "source": [
    "km.cluster_centers_"
   ]
  },
  {
   "cell_type": "markdown",
   "id": "13ab3236",
   "metadata": {},
   "source": [
    "## Test Determinism"
   ]
  },
  {
   "cell_type": "code",
   "execution_count": 82,
   "id": "8de79b25",
   "metadata": {
    "scrolled": true
   },
   "outputs": [
    {
     "data": {
      "text/plain": [
       "array([[400],\n",
       "       [300],\n",
       "       [100],\n",
       "       [399],\n",
       "       [299],\n",
       "       [ 99],\n",
       "       [401],\n",
       "       [301],\n",
       "       [101],\n",
       "       [398],\n",
       "       [298],\n",
       "       [ 98],\n",
       "       [402],\n",
       "       [302],\n",
       "       [102]])"
      ]
     },
     "execution_count": 82,
     "metadata": {},
     "output_type": "execute_result"
    }
   ],
   "source": [
    "N_FEATS = 1\n",
    "points = rng.integers(0, 10, [N_CLRS, N_FEATS])\n",
    "points *= 100\n",
    "points = np.concatenate([points, points - 1, points + 1, points - 2, points + 2])\n",
    "points"
   ]
  },
  {
   "cell_type": "code",
   "execution_count": 83,
   "id": "032b996e",
   "metadata": {},
   "outputs": [
    {
     "data": {
      "text/plain": [
       "array([[400],\n",
       "       [300],\n",
       "       [100]])"
      ]
     },
     "execution_count": 83,
     "metadata": {},
     "output_type": "execute_result"
    }
   ],
   "source": [
    "N_PTS = points.shape[0]\n",
    "init_pts = points[:N_CLRS, :]\n",
    "init_pts"
   ]
  },
  {
   "cell_type": "markdown",
   "id": "68934b31",
   "metadata": {},
   "source": [
    "### First Time"
   ]
  },
  {
   "cell_type": "code",
   "execution_count": 84,
   "id": "52cf56eb",
   "metadata": {},
   "outputs": [
    {
     "name": "stdout",
     "output_type": "stream",
     "text": [
      "Initialization complete\n",
      "Iteration 0, inertia 30.0.\n",
      "Converged at iteration 0: center shift 8.077935669463161e-28 within tolerance 1.5557555555555558.\n"
     ]
    },
    {
     "data": {
      "text/html": [
       "<style>#sk-container-id-13 {color: black;background-color: white;}#sk-container-id-13 pre{padding: 0;}#sk-container-id-13 div.sk-toggleable {background-color: white;}#sk-container-id-13 label.sk-toggleable__label {cursor: pointer;display: block;width: 100%;margin-bottom: 0;padding: 0.3em;box-sizing: border-box;text-align: center;}#sk-container-id-13 label.sk-toggleable__label-arrow:before {content: \"▸\";float: left;margin-right: 0.25em;color: #696969;}#sk-container-id-13 label.sk-toggleable__label-arrow:hover:before {color: black;}#sk-container-id-13 div.sk-estimator:hover label.sk-toggleable__label-arrow:before {color: black;}#sk-container-id-13 div.sk-toggleable__content {max-height: 0;max-width: 0;overflow: hidden;text-align: left;background-color: #f0f8ff;}#sk-container-id-13 div.sk-toggleable__content pre {margin: 0.2em;color: black;border-radius: 0.25em;background-color: #f0f8ff;}#sk-container-id-13 input.sk-toggleable__control:checked~div.sk-toggleable__content {max-height: 200px;max-width: 100%;overflow: auto;}#sk-container-id-13 input.sk-toggleable__control:checked~label.sk-toggleable__label-arrow:before {content: \"▾\";}#sk-container-id-13 div.sk-estimator input.sk-toggleable__control:checked~label.sk-toggleable__label {background-color: #d4ebff;}#sk-container-id-13 div.sk-label input.sk-toggleable__control:checked~label.sk-toggleable__label {background-color: #d4ebff;}#sk-container-id-13 input.sk-hidden--visually {border: 0;clip: rect(1px 1px 1px 1px);clip: rect(1px, 1px, 1px, 1px);height: 1px;margin: -1px;overflow: hidden;padding: 0;position: absolute;width: 1px;}#sk-container-id-13 div.sk-estimator {font-family: monospace;background-color: #f0f8ff;border: 1px dotted black;border-radius: 0.25em;box-sizing: border-box;margin-bottom: 0.5em;}#sk-container-id-13 div.sk-estimator:hover {background-color: #d4ebff;}#sk-container-id-13 div.sk-parallel-item::after {content: \"\";width: 100%;border-bottom: 1px solid gray;flex-grow: 1;}#sk-container-id-13 div.sk-label:hover label.sk-toggleable__label {background-color: #d4ebff;}#sk-container-id-13 div.sk-serial::before {content: \"\";position: absolute;border-left: 1px solid gray;box-sizing: border-box;top: 0;bottom: 0;left: 50%;z-index: 0;}#sk-container-id-13 div.sk-serial {display: flex;flex-direction: column;align-items: center;background-color: white;padding-right: 0.2em;padding-left: 0.2em;position: relative;}#sk-container-id-13 div.sk-item {position: relative;z-index: 1;}#sk-container-id-13 div.sk-parallel {display: flex;align-items: stretch;justify-content: center;background-color: white;position: relative;}#sk-container-id-13 div.sk-item::before, #sk-container-id-13 div.sk-parallel-item::before {content: \"\";position: absolute;border-left: 1px solid gray;box-sizing: border-box;top: 0;bottom: 0;left: 50%;z-index: -1;}#sk-container-id-13 div.sk-parallel-item {display: flex;flex-direction: column;z-index: 1;position: relative;background-color: white;}#sk-container-id-13 div.sk-parallel-item:first-child::after {align-self: flex-end;width: 50%;}#sk-container-id-13 div.sk-parallel-item:last-child::after {align-self: flex-start;width: 50%;}#sk-container-id-13 div.sk-parallel-item:only-child::after {width: 0;}#sk-container-id-13 div.sk-dashed-wrapped {border: 1px dashed gray;margin: 0 0.4em 0.5em 0.4em;box-sizing: border-box;padding-bottom: 0.4em;background-color: white;}#sk-container-id-13 div.sk-label label {font-family: monospace;font-weight: bold;display: inline-block;line-height: 1.2em;}#sk-container-id-13 div.sk-label-container {text-align: center;}#sk-container-id-13 div.sk-container {/* jupyter's `normalize.less` sets `[hidden] { display: none; }` but bootstrap.min.css set `[hidden] { display: none !important; }` so we also need the `!important` here to be able to override the default hidden behavior on the sphinx rendered scikit-learn.org. See: https://github.com/scikit-learn/scikit-learn/issues/21755 */display: inline-block !important;position: relative;}#sk-container-id-13 div.sk-text-repr-fallback {display: none;}</style><div id=\"sk-container-id-13\" class=\"sk-top-container\"><div class=\"sk-text-repr-fallback\"><pre>KMeans(init=array([[400],\n",
       "       [300],\n",
       "       [100]]), n_clusters=3, n_init=1,\n",
       "       random_state=3985, verbose=1)</pre><b>In a Jupyter environment, please rerun this cell to show the HTML representation or trust the notebook. <br />On GitHub, the HTML representation is unable to render, please try loading this page with nbviewer.org.</b></div><div class=\"sk-container\" hidden><div class=\"sk-item\"><div class=\"sk-estimator sk-toggleable\"><input class=\"sk-toggleable__control sk-hidden--visually\" id=\"sk-estimator-id-13\" type=\"checkbox\" checked><label for=\"sk-estimator-id-13\" class=\"sk-toggleable__label sk-toggleable__label-arrow\">KMeans</label><div class=\"sk-toggleable__content\"><pre>KMeans(init=array([[400],\n",
       "       [300],\n",
       "       [100]]), n_clusters=3, n_init=1,\n",
       "       random_state=3985, verbose=1)</pre></div></div></div></div></div>"
      ],
      "text/plain": [
       "KMeans(init=array([[400],\n",
       "       [300],\n",
       "       [100]]), n_clusters=3, n_init=1,\n",
       "       random_state=3985, verbose=1)"
      ]
     },
     "execution_count": 84,
     "metadata": {},
     "output_type": "execute_result"
    }
   ],
   "source": [
    "km = clr.KMeans(\n",
    "    n_clusters=N_CLRS, init=init_pts, n_init=1, max_iter=300,\n",
    "    random_state=3985, algorithm='lloyd', verbose=1\n",
    ")\n",
    "km.fit(points)"
   ]
  },
  {
   "cell_type": "code",
   "execution_count": 85,
   "id": "78f47e1e",
   "metadata": {
    "scrolled": false
   },
   "outputs": [
    {
     "data": {
      "text/plain": [
       "array([[400.],\n",
       "       [300.],\n",
       "       [100.]])"
      ]
     },
     "execution_count": 85,
     "metadata": {},
     "output_type": "execute_result"
    }
   ],
   "source": [
    "km.cluster_centers_"
   ]
  },
  {
   "cell_type": "markdown",
   "id": "f7ead643",
   "metadata": {},
   "source": [
    "### Second Time"
   ]
  },
  {
   "cell_type": "code",
   "execution_count": 86,
   "id": "55840131",
   "metadata": {},
   "outputs": [
    {
     "name": "stdout",
     "output_type": "stream",
     "text": [
      "Initialization complete\n",
      "Iteration 0, inertia 30.0.\n",
      "Converged at iteration 0: center shift 8.077935669463161e-28 within tolerance 1.5557555555555558.\n"
     ]
    },
    {
     "data": {
      "text/html": [
       "<style>#sk-container-id-14 {color: black;background-color: white;}#sk-container-id-14 pre{padding: 0;}#sk-container-id-14 div.sk-toggleable {background-color: white;}#sk-container-id-14 label.sk-toggleable__label {cursor: pointer;display: block;width: 100%;margin-bottom: 0;padding: 0.3em;box-sizing: border-box;text-align: center;}#sk-container-id-14 label.sk-toggleable__label-arrow:before {content: \"▸\";float: left;margin-right: 0.25em;color: #696969;}#sk-container-id-14 label.sk-toggleable__label-arrow:hover:before {color: black;}#sk-container-id-14 div.sk-estimator:hover label.sk-toggleable__label-arrow:before {color: black;}#sk-container-id-14 div.sk-toggleable__content {max-height: 0;max-width: 0;overflow: hidden;text-align: left;background-color: #f0f8ff;}#sk-container-id-14 div.sk-toggleable__content pre {margin: 0.2em;color: black;border-radius: 0.25em;background-color: #f0f8ff;}#sk-container-id-14 input.sk-toggleable__control:checked~div.sk-toggleable__content {max-height: 200px;max-width: 100%;overflow: auto;}#sk-container-id-14 input.sk-toggleable__control:checked~label.sk-toggleable__label-arrow:before {content: \"▾\";}#sk-container-id-14 div.sk-estimator input.sk-toggleable__control:checked~label.sk-toggleable__label {background-color: #d4ebff;}#sk-container-id-14 div.sk-label input.sk-toggleable__control:checked~label.sk-toggleable__label {background-color: #d4ebff;}#sk-container-id-14 input.sk-hidden--visually {border: 0;clip: rect(1px 1px 1px 1px);clip: rect(1px, 1px, 1px, 1px);height: 1px;margin: -1px;overflow: hidden;padding: 0;position: absolute;width: 1px;}#sk-container-id-14 div.sk-estimator {font-family: monospace;background-color: #f0f8ff;border: 1px dotted black;border-radius: 0.25em;box-sizing: border-box;margin-bottom: 0.5em;}#sk-container-id-14 div.sk-estimator:hover {background-color: #d4ebff;}#sk-container-id-14 div.sk-parallel-item::after {content: \"\";width: 100%;border-bottom: 1px solid gray;flex-grow: 1;}#sk-container-id-14 div.sk-label:hover label.sk-toggleable__label {background-color: #d4ebff;}#sk-container-id-14 div.sk-serial::before {content: \"\";position: absolute;border-left: 1px solid gray;box-sizing: border-box;top: 0;bottom: 0;left: 50%;z-index: 0;}#sk-container-id-14 div.sk-serial {display: flex;flex-direction: column;align-items: center;background-color: white;padding-right: 0.2em;padding-left: 0.2em;position: relative;}#sk-container-id-14 div.sk-item {position: relative;z-index: 1;}#sk-container-id-14 div.sk-parallel {display: flex;align-items: stretch;justify-content: center;background-color: white;position: relative;}#sk-container-id-14 div.sk-item::before, #sk-container-id-14 div.sk-parallel-item::before {content: \"\";position: absolute;border-left: 1px solid gray;box-sizing: border-box;top: 0;bottom: 0;left: 50%;z-index: -1;}#sk-container-id-14 div.sk-parallel-item {display: flex;flex-direction: column;z-index: 1;position: relative;background-color: white;}#sk-container-id-14 div.sk-parallel-item:first-child::after {align-self: flex-end;width: 50%;}#sk-container-id-14 div.sk-parallel-item:last-child::after {align-self: flex-start;width: 50%;}#sk-container-id-14 div.sk-parallel-item:only-child::after {width: 0;}#sk-container-id-14 div.sk-dashed-wrapped {border: 1px dashed gray;margin: 0 0.4em 0.5em 0.4em;box-sizing: border-box;padding-bottom: 0.4em;background-color: white;}#sk-container-id-14 div.sk-label label {font-family: monospace;font-weight: bold;display: inline-block;line-height: 1.2em;}#sk-container-id-14 div.sk-label-container {text-align: center;}#sk-container-id-14 div.sk-container {/* jupyter's `normalize.less` sets `[hidden] { display: none; }` but bootstrap.min.css set `[hidden] { display: none !important; }` so we also need the `!important` here to be able to override the default hidden behavior on the sphinx rendered scikit-learn.org. See: https://github.com/scikit-learn/scikit-learn/issues/21755 */display: inline-block !important;position: relative;}#sk-container-id-14 div.sk-text-repr-fallback {display: none;}</style><div id=\"sk-container-id-14\" class=\"sk-top-container\"><div class=\"sk-text-repr-fallback\"><pre>KMeans(init=array([[400],\n",
       "       [300],\n",
       "       [100]]), n_clusters=3, n_init=1,\n",
       "       random_state=3985, verbose=1)</pre><b>In a Jupyter environment, please rerun this cell to show the HTML representation or trust the notebook. <br />On GitHub, the HTML representation is unable to render, please try loading this page with nbviewer.org.</b></div><div class=\"sk-container\" hidden><div class=\"sk-item\"><div class=\"sk-estimator sk-toggleable\"><input class=\"sk-toggleable__control sk-hidden--visually\" id=\"sk-estimator-id-14\" type=\"checkbox\" checked><label for=\"sk-estimator-id-14\" class=\"sk-toggleable__label sk-toggleable__label-arrow\">KMeans</label><div class=\"sk-toggleable__content\"><pre>KMeans(init=array([[400],\n",
       "       [300],\n",
       "       [100]]), n_clusters=3, n_init=1,\n",
       "       random_state=3985, verbose=1)</pre></div></div></div></div></div>"
      ],
      "text/plain": [
       "KMeans(init=array([[400],\n",
       "       [300],\n",
       "       [100]]), n_clusters=3, n_init=1,\n",
       "       random_state=3985, verbose=1)"
      ]
     },
     "execution_count": 86,
     "metadata": {},
     "output_type": "execute_result"
    }
   ],
   "source": [
    "km = clr.KMeans(\n",
    "    n_clusters=N_CLRS, init=init_pts, n_init=1, max_iter=300,\n",
    "    random_state=3985, algorithm='lloyd', verbose=1\n",
    ")\n",
    "km.fit(points)"
   ]
  },
  {
   "cell_type": "code",
   "execution_count": 88,
   "id": "caef4706",
   "metadata": {
    "scrolled": false
   },
   "outputs": [
    {
     "data": {
      "text/plain": [
       "array([[400.],\n",
       "       [300.],\n",
       "       [100.]])"
      ]
     },
     "execution_count": 88,
     "metadata": {},
     "output_type": "execute_result"
    }
   ],
   "source": [
    "km.cluster_centers_"
   ]
  },
  {
   "cell_type": "markdown",
   "id": "e11151b1",
   "metadata": {},
   "source": [
    "## Generate Testcases"
   ]
  },
  {
   "cell_type": "code",
   "execution_count": 53,
   "id": "d0788d53",
   "metadata": {},
   "outputs": [],
   "source": [
    "N_PTS = 1024\n",
    "N_FEATS = 128\n",
    "N_CLRS = 8"
   ]
  },
  {
   "cell_type": "code",
   "execution_count": 54,
   "id": "24b58ca8",
   "metadata": {},
   "outputs": [
    {
     "data": {
      "text/plain": [
       "array([[0.56317041, 0.95547997, 0.18312246, ..., 0.24811908, 0.36786775,\n",
       "        0.47234641],\n",
       "       [0.54234708, 0.78222908, 0.36823254, ..., 0.14482314, 0.75532335,\n",
       "        0.61035202],\n",
       "       [0.43228993, 0.93069523, 0.69397088, ..., 0.76438538, 0.76332209,\n",
       "        0.72476161],\n",
       "       ...,\n",
       "       [0.21329565, 0.49538786, 0.8798866 , ..., 0.83336527, 0.15184803,\n",
       "        0.21125614],\n",
       "       [0.07781889, 0.66145335, 0.30461088, ..., 0.8156401 , 0.66564087,\n",
       "        0.90632432],\n",
       "       [0.4581499 , 0.01187021, 0.62477843, ..., 0.79474108, 0.08554994,\n",
       "        0.47615746]])"
      ]
     },
     "execution_count": 54,
     "metadata": {},
     "output_type": "execute_result"
    }
   ],
   "source": [
    "points = rng.random([N_PTS, N_FEATS])\n",
    "points"
   ]
  },
  {
   "cell_type": "code",
   "execution_count": 55,
   "id": "13f09d22",
   "metadata": {},
   "outputs": [],
   "source": [
    "np.savetxt('tcase2.txt', points, fmt='%.8f', header=f'{N_PTS} {N_FEATS}')"
   ]
  },
  {
   "cell_type": "code",
   "execution_count": 56,
   "id": "240151f6",
   "metadata": {},
   "outputs": [
    {
     "data": {
      "text/plain": [
       "array([414, 822, 844, 114, 551, 299, 363, 235])"
      ]
     },
     "execution_count": 56,
     "metadata": {},
     "output_type": "execute_result"
    }
   ],
   "source": [
    "init_idxs = rng.integers(0, N_PTS, N_CLRS)\n",
    "init_idxs"
   ]
  },
  {
   "cell_type": "code",
   "execution_count": 57,
   "id": "a3d4ae28",
   "metadata": {},
   "outputs": [],
   "source": [
    "np.savetxt('tcase2_cfg.txt', init_idxs, fmt='%d', header=f'{N_CLRS}')"
   ]
  },
  {
   "cell_type": "code",
   "execution_count": 58,
   "id": "a92f3d3f",
   "metadata": {},
   "outputs": [
    {
     "name": "stdout",
     "output_type": "stream",
     "text": [
      "Initialization complete\n",
      "Iteration 0, inertia 18957.27895195155.\n",
      "Iteration 1, inertia 10628.102346552223.\n",
      "Iteration 2, inertia 10591.752657807843.\n",
      "Iteration 3, inertia 10574.047927286092.\n",
      "Iteration 4, inertia 10563.121857697406.\n",
      "Iteration 5, inertia 10555.615746436339.\n",
      "Iteration 6, inertia 10551.849081694167.\n",
      "Iteration 7, inertia 10548.228375788902.\n",
      "Iteration 8, inertia 10546.484426903466.\n",
      "Iteration 9, inertia 10545.101010073846.\n",
      "Iteration 10, inertia 10543.771685159825.\n",
      "Iteration 11, inertia 10543.606925631455.\n",
      "Converged at iteration 11: strict convergence.\n"
     ]
    },
    {
     "data": {
      "text/html": [
       "<style>#sk-container-id-7 {color: black;background-color: white;}#sk-container-id-7 pre{padding: 0;}#sk-container-id-7 div.sk-toggleable {background-color: white;}#sk-container-id-7 label.sk-toggleable__label {cursor: pointer;display: block;width: 100%;margin-bottom: 0;padding: 0.3em;box-sizing: border-box;text-align: center;}#sk-container-id-7 label.sk-toggleable__label-arrow:before {content: \"▸\";float: left;margin-right: 0.25em;color: #696969;}#sk-container-id-7 label.sk-toggleable__label-arrow:hover:before {color: black;}#sk-container-id-7 div.sk-estimator:hover label.sk-toggleable__label-arrow:before {color: black;}#sk-container-id-7 div.sk-toggleable__content {max-height: 0;max-width: 0;overflow: hidden;text-align: left;background-color: #f0f8ff;}#sk-container-id-7 div.sk-toggleable__content pre {margin: 0.2em;color: black;border-radius: 0.25em;background-color: #f0f8ff;}#sk-container-id-7 input.sk-toggleable__control:checked~div.sk-toggleable__content {max-height: 200px;max-width: 100%;overflow: auto;}#sk-container-id-7 input.sk-toggleable__control:checked~label.sk-toggleable__label-arrow:before {content: \"▾\";}#sk-container-id-7 div.sk-estimator input.sk-toggleable__control:checked~label.sk-toggleable__label {background-color: #d4ebff;}#sk-container-id-7 div.sk-label input.sk-toggleable__control:checked~label.sk-toggleable__label {background-color: #d4ebff;}#sk-container-id-7 input.sk-hidden--visually {border: 0;clip: rect(1px 1px 1px 1px);clip: rect(1px, 1px, 1px, 1px);height: 1px;margin: -1px;overflow: hidden;padding: 0;position: absolute;width: 1px;}#sk-container-id-7 div.sk-estimator {font-family: monospace;background-color: #f0f8ff;border: 1px dotted black;border-radius: 0.25em;box-sizing: border-box;margin-bottom: 0.5em;}#sk-container-id-7 div.sk-estimator:hover {background-color: #d4ebff;}#sk-container-id-7 div.sk-parallel-item::after {content: \"\";width: 100%;border-bottom: 1px solid gray;flex-grow: 1;}#sk-container-id-7 div.sk-label:hover label.sk-toggleable__label {background-color: #d4ebff;}#sk-container-id-7 div.sk-serial::before {content: \"\";position: absolute;border-left: 1px solid gray;box-sizing: border-box;top: 0;bottom: 0;left: 50%;z-index: 0;}#sk-container-id-7 div.sk-serial {display: flex;flex-direction: column;align-items: center;background-color: white;padding-right: 0.2em;padding-left: 0.2em;position: relative;}#sk-container-id-7 div.sk-item {position: relative;z-index: 1;}#sk-container-id-7 div.sk-parallel {display: flex;align-items: stretch;justify-content: center;background-color: white;position: relative;}#sk-container-id-7 div.sk-item::before, #sk-container-id-7 div.sk-parallel-item::before {content: \"\";position: absolute;border-left: 1px solid gray;box-sizing: border-box;top: 0;bottom: 0;left: 50%;z-index: -1;}#sk-container-id-7 div.sk-parallel-item {display: flex;flex-direction: column;z-index: 1;position: relative;background-color: white;}#sk-container-id-7 div.sk-parallel-item:first-child::after {align-self: flex-end;width: 50%;}#sk-container-id-7 div.sk-parallel-item:last-child::after {align-self: flex-start;width: 50%;}#sk-container-id-7 div.sk-parallel-item:only-child::after {width: 0;}#sk-container-id-7 div.sk-dashed-wrapped {border: 1px dashed gray;margin: 0 0.4em 0.5em 0.4em;box-sizing: border-box;padding-bottom: 0.4em;background-color: white;}#sk-container-id-7 div.sk-label label {font-family: monospace;font-weight: bold;display: inline-block;line-height: 1.2em;}#sk-container-id-7 div.sk-label-container {text-align: center;}#sk-container-id-7 div.sk-container {/* jupyter's `normalize.less` sets `[hidden] { display: none; }` but bootstrap.min.css set `[hidden] { display: none !important; }` so we also need the `!important` here to be able to override the default hidden behavior on the sphinx rendered scikit-learn.org. See: https://github.com/scikit-learn/scikit-learn/issues/21755 */display: inline-block !important;position: relative;}#sk-container-id-7 div.sk-text-repr-fallback {display: none;}</style><div id=\"sk-container-id-7\" class=\"sk-top-container\"><div class=\"sk-text-repr-fallback\"><pre>KMeans(init=array([[0.46844222, 0.54756619, 0.36111332, ..., 0.11239217, 0.15597298,\n",
       "        0.17064516],\n",
       "       [0.12981224, 0.97425168, 0.47519863, ..., 0.694163  , 0.0940981 ,\n",
       "        0.42271824],\n",
       "       [0.83902691, 0.20034395, 0.57073064, ..., 0.14460913, 0.45115221,\n",
       "        0.07098355],\n",
       "       ...,\n",
       "       [0.15152029, 0.85397605, 0.47182507, ..., 0.32966771, 0.88295883,\n",
       "        0.03751214],\n",
       "       [0.48115509, 0.85586397, 0.6773574 , ..., 0.90053089, 0.01618376,\n",
       "        0.81537324],\n",
       "       [0.76866974, 0.69316588, 0.4171244 , ..., 0.17853811, 0.53892584,\n",
       "        0.32082455]]),\n",
       "       n_init=1, random_state=3985, verbose=1)</pre><b>In a Jupyter environment, please rerun this cell to show the HTML representation or trust the notebook. <br />On GitHub, the HTML representation is unable to render, please try loading this page with nbviewer.org.</b></div><div class=\"sk-container\" hidden><div class=\"sk-item\"><div class=\"sk-estimator sk-toggleable\"><input class=\"sk-toggleable__control sk-hidden--visually\" id=\"sk-estimator-id-7\" type=\"checkbox\" checked><label for=\"sk-estimator-id-7\" class=\"sk-toggleable__label sk-toggleable__label-arrow\">KMeans</label><div class=\"sk-toggleable__content\"><pre>KMeans(init=array([[0.46844222, 0.54756619, 0.36111332, ..., 0.11239217, 0.15597298,\n",
       "        0.17064516],\n",
       "       [0.12981224, 0.97425168, 0.47519863, ..., 0.694163  , 0.0940981 ,\n",
       "        0.42271824],\n",
       "       [0.83902691, 0.20034395, 0.57073064, ..., 0.14460913, 0.45115221,\n",
       "        0.07098355],\n",
       "       ...,\n",
       "       [0.15152029, 0.85397605, 0.47182507, ..., 0.32966771, 0.88295883,\n",
       "        0.03751214],\n",
       "       [0.48115509, 0.85586397, 0.6773574 , ..., 0.90053089, 0.01618376,\n",
       "        0.81537324],\n",
       "       [0.76866974, 0.69316588, 0.4171244 , ..., 0.17853811, 0.53892584,\n",
       "        0.32082455]]),\n",
       "       n_init=1, random_state=3985, verbose=1)</pre></div></div></div></div></div>"
      ],
      "text/plain": [
       "KMeans(init=array([[0.46844222, 0.54756619, 0.36111332, ..., 0.11239217, 0.15597298,\n",
       "        0.17064516],\n",
       "       [0.12981224, 0.97425168, 0.47519863, ..., 0.694163  , 0.0940981 ,\n",
       "        0.42271824],\n",
       "       [0.83902691, 0.20034395, 0.57073064, ..., 0.14460913, 0.45115221,\n",
       "        0.07098355],\n",
       "       ...,\n",
       "       [0.15152029, 0.85397605, 0.47182507, ..., 0.32966771, 0.88295883,\n",
       "        0.03751214],\n",
       "       [0.48115509, 0.85586397, 0.6773574 , ..., 0.90053089, 0.01618376,\n",
       "        0.81537324],\n",
       "       [0.76866974, 0.69316588, 0.4171244 , ..., 0.17853811, 0.53892584,\n",
       "        0.32082455]]),\n",
       "       n_init=1, random_state=3985, verbose=1)"
      ]
     },
     "execution_count": 58,
     "metadata": {},
     "output_type": "execute_result"
    }
   ],
   "source": [
    "km = clr.KMeans(\n",
    "    n_clusters=N_CLRS, init=points[init_idxs], n_init=1, max_iter=300,\n",
    "    random_state=3985, algorithm='lloyd', verbose=1\n",
    ")\n",
    "km.fit(points)"
   ]
  },
  {
   "cell_type": "code",
   "execution_count": 60,
   "id": "66bc841d",
   "metadata": {},
   "outputs": [
    {
     "data": {
      "text/plain": [
       "10543.606925631455"
      ]
     },
     "execution_count": 60,
     "metadata": {},
     "output_type": "execute_result"
    }
   ],
   "source": [
    "km.inertia_"
   ]
  },
  {
   "cell_type": "markdown",
   "id": "7be10c71",
   "metadata": {},
   "source": [
    "### Simple Testcase"
   ]
  },
  {
   "cell_type": "code",
   "execution_count": 41,
   "id": "ba1626e4",
   "metadata": {},
   "outputs": [],
   "source": [
    "N_PTS = 10\n",
    "N_CLRS = 3\n",
    "N_FEATS = 2"
   ]
  },
  {
   "cell_type": "code",
   "execution_count": 42,
   "id": "e7463d8f",
   "metadata": {},
   "outputs": [
    {
     "data": {
      "text/plain": [
       "array([[300, 600],\n",
       "       [300, 500],\n",
       "       [500, 700],\n",
       "       [299, 599],\n",
       "       [299, 499],\n",
       "       [499, 699],\n",
       "       [301, 601],\n",
       "       [301, 501],\n",
       "       [501, 701],\n",
       "       [298, 598],\n",
       "       [298, 498],\n",
       "       [498, 698],\n",
       "       [302, 602],\n",
       "       [302, 502],\n",
       "       [502, 702]])"
      ]
     },
     "execution_count": 42,
     "metadata": {},
     "output_type": "execute_result"
    }
   ],
   "source": [
    "points = rng.integers(0, 10, [N_CLRS, N_FEATS])\n",
    "points *= 100\n",
    "points = np.concatenate([points, points - 1, points + 1, points - 2, points + 2])\n",
    "points"
   ]
  },
  {
   "cell_type": "code",
   "execution_count": 43,
   "id": "ffc290c2",
   "metadata": {},
   "outputs": [
    {
     "data": {
      "text/plain": [
       "array([0, 1, 2])"
      ]
     },
     "execution_count": 43,
     "metadata": {},
     "output_type": "execute_result"
    }
   ],
   "source": [
    "N_PTS = points.shape[0]\n",
    "init_idxs = np.arange(N_CLRS)\n",
    "init_idxs"
   ]
  },
  {
   "cell_type": "code",
   "execution_count": 44,
   "id": "d0601f97",
   "metadata": {},
   "outputs": [],
   "source": [
    "np.savetxt('tcase1.txt', points, fmt='%.8f', header=f'{N_PTS} {N_FEATS}')\n",
    "np.savetxt('tcase1_cfg.txt', init_idxs, fmt='%d', header=f'{N_CLRS}')"
   ]
  },
  {
   "cell_type": "code",
   "execution_count": 45,
   "id": "36c43bf6",
   "metadata": {},
   "outputs": [
    {
     "name": "stdout",
     "output_type": "stream",
     "text": [
      "Initialization complete\n",
      "Iteration 0, inertia 60.0.\n",
      "Converged at iteration 0: center shift 0.0 within tolerance 0.7779777777777778.\n"
     ]
    },
    {
     "data": {
      "text/html": [
       "<style>#sk-container-id-5 {color: black;background-color: white;}#sk-container-id-5 pre{padding: 0;}#sk-container-id-5 div.sk-toggleable {background-color: white;}#sk-container-id-5 label.sk-toggleable__label {cursor: pointer;display: block;width: 100%;margin-bottom: 0;padding: 0.3em;box-sizing: border-box;text-align: center;}#sk-container-id-5 label.sk-toggleable__label-arrow:before {content: \"▸\";float: left;margin-right: 0.25em;color: #696969;}#sk-container-id-5 label.sk-toggleable__label-arrow:hover:before {color: black;}#sk-container-id-5 div.sk-estimator:hover label.sk-toggleable__label-arrow:before {color: black;}#sk-container-id-5 div.sk-toggleable__content {max-height: 0;max-width: 0;overflow: hidden;text-align: left;background-color: #f0f8ff;}#sk-container-id-5 div.sk-toggleable__content pre {margin: 0.2em;color: black;border-radius: 0.25em;background-color: #f0f8ff;}#sk-container-id-5 input.sk-toggleable__control:checked~div.sk-toggleable__content {max-height: 200px;max-width: 100%;overflow: auto;}#sk-container-id-5 input.sk-toggleable__control:checked~label.sk-toggleable__label-arrow:before {content: \"▾\";}#sk-container-id-5 div.sk-estimator input.sk-toggleable__control:checked~label.sk-toggleable__label {background-color: #d4ebff;}#sk-container-id-5 div.sk-label input.sk-toggleable__control:checked~label.sk-toggleable__label {background-color: #d4ebff;}#sk-container-id-5 input.sk-hidden--visually {border: 0;clip: rect(1px 1px 1px 1px);clip: rect(1px, 1px, 1px, 1px);height: 1px;margin: -1px;overflow: hidden;padding: 0;position: absolute;width: 1px;}#sk-container-id-5 div.sk-estimator {font-family: monospace;background-color: #f0f8ff;border: 1px dotted black;border-radius: 0.25em;box-sizing: border-box;margin-bottom: 0.5em;}#sk-container-id-5 div.sk-estimator:hover {background-color: #d4ebff;}#sk-container-id-5 div.sk-parallel-item::after {content: \"\";width: 100%;border-bottom: 1px solid gray;flex-grow: 1;}#sk-container-id-5 div.sk-label:hover label.sk-toggleable__label {background-color: #d4ebff;}#sk-container-id-5 div.sk-serial::before {content: \"\";position: absolute;border-left: 1px solid gray;box-sizing: border-box;top: 0;bottom: 0;left: 50%;z-index: 0;}#sk-container-id-5 div.sk-serial {display: flex;flex-direction: column;align-items: center;background-color: white;padding-right: 0.2em;padding-left: 0.2em;position: relative;}#sk-container-id-5 div.sk-item {position: relative;z-index: 1;}#sk-container-id-5 div.sk-parallel {display: flex;align-items: stretch;justify-content: center;background-color: white;position: relative;}#sk-container-id-5 div.sk-item::before, #sk-container-id-5 div.sk-parallel-item::before {content: \"\";position: absolute;border-left: 1px solid gray;box-sizing: border-box;top: 0;bottom: 0;left: 50%;z-index: -1;}#sk-container-id-5 div.sk-parallel-item {display: flex;flex-direction: column;z-index: 1;position: relative;background-color: white;}#sk-container-id-5 div.sk-parallel-item:first-child::after {align-self: flex-end;width: 50%;}#sk-container-id-5 div.sk-parallel-item:last-child::after {align-self: flex-start;width: 50%;}#sk-container-id-5 div.sk-parallel-item:only-child::after {width: 0;}#sk-container-id-5 div.sk-dashed-wrapped {border: 1px dashed gray;margin: 0 0.4em 0.5em 0.4em;box-sizing: border-box;padding-bottom: 0.4em;background-color: white;}#sk-container-id-5 div.sk-label label {font-family: monospace;font-weight: bold;display: inline-block;line-height: 1.2em;}#sk-container-id-5 div.sk-label-container {text-align: center;}#sk-container-id-5 div.sk-container {/* jupyter's `normalize.less` sets `[hidden] { display: none; }` but bootstrap.min.css set `[hidden] { display: none !important; }` so we also need the `!important` here to be able to override the default hidden behavior on the sphinx rendered scikit-learn.org. See: https://github.com/scikit-learn/scikit-learn/issues/21755 */display: inline-block !important;position: relative;}#sk-container-id-5 div.sk-text-repr-fallback {display: none;}</style><div id=\"sk-container-id-5\" class=\"sk-top-container\"><div class=\"sk-text-repr-fallback\"><pre>KMeans(init=array([[300, 600],\n",
       "       [300, 500],\n",
       "       [500, 700]]),\n",
       "       n_clusters=3, n_init=1, random_state=3985, verbose=1)</pre><b>In a Jupyter environment, please rerun this cell to show the HTML representation or trust the notebook. <br />On GitHub, the HTML representation is unable to render, please try loading this page with nbviewer.org.</b></div><div class=\"sk-container\" hidden><div class=\"sk-item\"><div class=\"sk-estimator sk-toggleable\"><input class=\"sk-toggleable__control sk-hidden--visually\" id=\"sk-estimator-id-5\" type=\"checkbox\" checked><label for=\"sk-estimator-id-5\" class=\"sk-toggleable__label sk-toggleable__label-arrow\">KMeans</label><div class=\"sk-toggleable__content\"><pre>KMeans(init=array([[300, 600],\n",
       "       [300, 500],\n",
       "       [500, 700]]),\n",
       "       n_clusters=3, n_init=1, random_state=3985, verbose=1)</pre></div></div></div></div></div>"
      ],
      "text/plain": [
       "KMeans(init=array([[300, 600],\n",
       "       [300, 500],\n",
       "       [500, 700]]),\n",
       "       n_clusters=3, n_init=1, random_state=3985, verbose=1)"
      ]
     },
     "execution_count": 45,
     "metadata": {},
     "output_type": "execute_result"
    }
   ],
   "source": [
    "km = clr.KMeans(\n",
    "    n_clusters=N_CLRS, init=points[init_idxs], n_init=1, max_iter=300,\n",
    "    random_state=3985, algorithm='lloyd', verbose=1\n",
    ")\n",
    "km.fit(points)"
   ]
  },
  {
   "cell_type": "code",
   "execution_count": 46,
   "id": "357c7dc1",
   "metadata": {},
   "outputs": [
    {
     "data": {
      "text/plain": [
       "array([[300, 600],\n",
       "       [300, 500],\n",
       "       [500, 700]], dtype=int32)"
      ]
     },
     "execution_count": 46,
     "metadata": {},
     "output_type": "execute_result"
    }
   ],
   "source": [
    "np.int32(km.cluster_centers_)"
   ]
  },
  {
   "cell_type": "code",
   "execution_count": 50,
   "id": "3a54c3ca",
   "metadata": {},
   "outputs": [],
   "source": [
    "np.savetxt('tcase1_gt.txt', km.cluster_centers_, fmt='%.8f', header=f'{N_CLRS} {N_FEATS}')"
   ]
  },
  {
   "cell_type": "code",
   "execution_count": 48,
   "id": "69a7cc30",
   "metadata": {},
   "outputs": [
    {
     "name": "stdout",
     "output_type": "stream",
     "text": [
      "300.00000000 600.00000000\r\n",
      "300.00000000 500.00000000\r\n",
      "500.00000000 700.00000000\r\n"
     ]
    }
   ],
   "source": [
    "!cat tcase1_gt.txt"
   ]
  },
  {
   "cell_type": "markdown",
   "id": "d6ff7cb8",
   "metadata": {},
   "source": [
    "## Pairwise Squared Distance\n",
    "\n",
    "$$\n",
    "\\begin{equation}\n",
    "    \\rho(R, Q) = (R^T)^2 I_{d \\times n} + I_{m \\times d} Q^2 - 2 R^T Q\n",
    "    \\begin{cases}\n",
    "        R & d \\times m \\\\\n",
    "        Q & d \\times n\n",
    "    \\end{cases}\n",
    "\\end{equation}\n",
    "$$"
   ]
  },
  {
   "cell_type": "code",
   "execution_count": 3,
   "id": "4408ab71",
   "metadata": {},
   "outputs": [],
   "source": [
    "import numpy as np"
   ]
  },
  {
   "cell_type": "code",
   "execution_count": 4,
   "id": "4ed00ef2",
   "metadata": {},
   "outputs": [],
   "source": [
    "rng = np.random.default_rng(3985)"
   ]
  },
  {
   "cell_type": "code",
   "execution_count": 8,
   "id": "2aeea4ab",
   "metadata": {},
   "outputs": [],
   "source": [
    "m = 2\n",
    "n = 3\n",
    "d = 4"
   ]
  },
  {
   "cell_type": "code",
   "execution_count": 9,
   "id": "96755dc0",
   "metadata": {},
   "outputs": [
    {
     "data": {
      "text/plain": [
       "array([[8, 2],\n",
       "       [7, 4],\n",
       "       [9, 5],\n",
       "       [6, 0]])"
      ]
     },
     "execution_count": 9,
     "metadata": {},
     "output_type": "execute_result"
    }
   ],
   "source": [
    "R = rng.integers(0, 10, [d, m])\n",
    "R"
   ]
  },
  {
   "cell_type": "code",
   "execution_count": 10,
   "id": "0b342780",
   "metadata": {},
   "outputs": [
    {
     "data": {
      "text/plain": [
       "array([[230., 230., 230.],\n",
       "       [ 45.,  45.,  45.]])"
      ]
     },
     "execution_count": 10,
     "metadata": {},
     "output_type": "execute_result"
    }
   ],
   "source": [
    "(np.ones([1, d]) @ R**2).T @ np.ones([1, n])"
   ]
  },
  {
   "cell_type": "code",
   "execution_count": 11,
   "id": "aa882486",
   "metadata": {},
   "outputs": [
    {
     "data": {
      "text/plain": [
       "array([[230., 230., 230.],\n",
       "       [ 45.,  45.,  45.]])"
      ]
     },
     "execution_count": 11,
     "metadata": {},
     "output_type": "execute_result"
    }
   ],
   "source": [
    "(R.T**2) @ np.ones([d, n])"
   ]
  },
  {
   "cell_type": "code",
   "execution_count": 12,
   "id": "584a16c8",
   "metadata": {},
   "outputs": [
    {
     "data": {
      "text/plain": [
       "array([[2, 9, 4],\n",
       "       [7, 5, 7],\n",
       "       [7, 8, 9],\n",
       "       [8, 0, 1]])"
      ]
     },
     "execution_count": 12,
     "metadata": {},
     "output_type": "execute_result"
    }
   ],
   "source": [
    "Q = rng.integers(0, 10, [d, n])\n",
    "Q"
   ]
  },
  {
   "cell_type": "code",
   "execution_count": 13,
   "id": "fd432362",
   "metadata": {},
   "outputs": [
    {
     "data": {
      "text/plain": [
       "array([[166., 170., 147.],\n",
       "       [166., 170., 147.]])"
      ]
     },
     "execution_count": 13,
     "metadata": {},
     "output_type": "execute_result"
    }
   ],
   "source": [
    "np.ones([m, d]) @ Q**2"
   ]
  },
  {
   "cell_type": "code",
   "execution_count": 14,
   "id": "ae9684ad",
   "metadata": {},
   "outputs": [
    {
     "data": {
      "text/plain": [
       "array([[352, 358, 336],\n",
       "       [134, 156, 162]])"
      ]
     },
     "execution_count": 14,
     "metadata": {},
     "output_type": "execute_result"
    }
   ],
   "source": [
    "2 * R.T @ Q"
   ]
  },
  {
   "cell_type": "code",
   "execution_count": 15,
   "id": "b1076f57",
   "metadata": {},
   "outputs": [
    {
     "data": {
      "text/plain": [
       "array([[44., 42., 41.],\n",
       "       [77., 59., 30.]])"
      ]
     },
     "execution_count": 15,
     "metadata": {},
     "output_type": "execute_result"
    }
   ],
   "source": [
    "(R.T**2) @ np.ones([d, n]) + np.ones([m, d]) @ Q**2 - 2 * R.T @ Q"
   ]
  },
  {
   "cell_type": "code",
   "execution_count": 16,
   "id": "a8dfcd8a",
   "metadata": {},
   "outputs": [
    {
     "name": "stdout",
     "output_type": "stream",
     "text": [
      "44\n",
      "42\n",
      "41\n",
      "77\n",
      "59\n",
      "30\n"
     ]
    }
   ],
   "source": [
    "for i in range(m):\n",
    "    for j in range(n):\n",
    "        print(np.sum((R[:, i] - Q[:, j])**2))"
   ]
  },
  {
   "cell_type": "markdown",
   "id": "e60cb144",
   "metadata": {},
   "source": [
    "### Memory-Optimized Version"
   ]
  },
  {
   "cell_type": "code",
   "execution_count": 17,
   "id": "b4c6fdc5",
   "metadata": {},
   "outputs": [
    {
     "data": {
      "text/plain": [
       "(array([[230.,  45.]]), (1, 2))"
      ]
     },
     "execution_count": 17,
     "metadata": {},
     "output_type": "execute_result"
    }
   ],
   "source": [
    "sqr_norm_R = np.ones([1, d]) @ R**2\n",
    "sqr_norm_R, sqr_norm_R.shape"
   ]
  },
  {
   "cell_type": "code",
   "execution_count": 18,
   "id": "3d553e17",
   "metadata": {},
   "outputs": [
    {
     "data": {
      "text/plain": [
       "(array([[166., 170., 147.]]), (1, 3))"
      ]
     },
     "execution_count": 18,
     "metadata": {},
     "output_type": "execute_result"
    }
   ],
   "source": [
    "sqr_norm_Q = np.ones([1, d]) @ Q**2\n",
    "sqr_norm_Q, sqr_norm_Q.shape"
   ]
  },
  {
   "cell_type": "markdown",
   "id": "9a78e00c",
   "metadata": {},
   "source": [
    "#### Middle Term"
   ]
  },
  {
   "cell_type": "code",
   "execution_count": 25,
   "id": "7b3774e0",
   "metadata": {},
   "outputs": [
    {
     "data": {
      "text/plain": [
       "(array([[-352, -358, -336],\n",
       "        [-134, -156, -162]]),\n",
       " (2, 3))"
      ]
     },
     "execution_count": 25,
     "metadata": {},
     "output_type": "execute_result"
    }
   ],
   "source": [
    "stat = -2 * (R.T @ Q)\n",
    "stat, stat.shape"
   ]
  },
  {
   "cell_type": "markdown",
   "id": "457cd138",
   "metadata": {},
   "source": [
    "#### Add Squared Norm of R"
   ]
  },
  {
   "cell_type": "code",
   "execution_count": 22,
   "id": "332bfb81",
   "metadata": {},
   "outputs": [
    {
     "data": {
      "text/plain": [
       "array([[-122, -128, -106],\n",
       "       [ -89, -111, -117]])"
      ]
     },
     "execution_count": 22,
     "metadata": {},
     "output_type": "execute_result"
    }
   ],
   "source": [
    "for j in range(n):\n",
    "    for i in range(m):\n",
    "        stat[i, j] = stat[i, j] + sqr_norm_R[0, i]\n",
    "stat"
   ]
  },
  {
   "cell_type": "markdown",
   "id": "07f12bbd",
   "metadata": {},
   "source": [
    "#### Add Squared Norm of Q"
   ]
  },
  {
   "cell_type": "code",
   "execution_count": 23,
   "id": "bc4e364d",
   "metadata": {},
   "outputs": [
    {
     "data": {
      "text/plain": [
       "array([[44, 42, 41],\n",
       "       [77, 59, 30]])"
      ]
     },
     "execution_count": 23,
     "metadata": {},
     "output_type": "execute_result"
    }
   ],
   "source": [
    "for i in range(m):\n",
    "    for j in range(n):\n",
    "        stat[i, j] = stat[i, j] + sqr_norm_Q[0, j]\n",
    "stat"
   ]
  },
  {
   "cell_type": "markdown",
   "id": "6c3df03b",
   "metadata": {},
   "source": [
    "#### Optimized: Fused Add Squared Norms of R and Q"
   ]
  },
  {
   "cell_type": "code",
   "execution_count": 27,
   "id": "d7522203",
   "metadata": {},
   "outputs": [
    {
     "data": {
      "text/plain": [
       "array([[44, 42, 41],\n",
       "       [77, 59, 30]])"
      ]
     },
     "execution_count": 27,
     "metadata": {},
     "output_type": "execute_result"
    }
   ],
   "source": [
    "sqr_norm_R = np.ones([1, d]) @ R**2\n",
    "sqr_norm_Q = np.ones([1, d]) @ Q**2\n",
    "stat = -2 * (R.T @ Q)\n",
    "\n",
    "for i in range(m):\n",
    "    for j in range(n):\n",
    "        stat[i, j] += sqr_norm_R[0, i] + sqr_norm_Q[0, j]\n",
    "stat"
   ]
  },
  {
   "cell_type": "markdown",
   "id": "c1f0bdfd",
   "metadata": {},
   "source": [
    "## Matrix Version KMeans"
   ]
  },
  {
   "cell_type": "markdown",
   "id": "8d9fb96f",
   "metadata": {},
   "source": [
    "### Library Version"
   ]
  },
  {
   "cell_type": "code",
   "execution_count": 1,
   "id": "c159ed95",
   "metadata": {},
   "outputs": [],
   "source": [
    "import numpy as np\n",
    "rng = np.random.default_rng(3985)"
   ]
  },
  {
   "cell_type": "code",
   "execution_count": 2,
   "id": "a16de029",
   "metadata": {},
   "outputs": [],
   "source": [
    "N_CTRS = 3\n",
    "N_DIMS = 2"
   ]
  },
  {
   "cell_type": "code",
   "execution_count": 3,
   "id": "cc479088",
   "metadata": {},
   "outputs": [
    {
     "data": {
      "text/plain": [
       "array([[80, 70],\n",
       "       [60, 70],\n",
       "       [80, 90]])"
      ]
     },
     "execution_count": 3,
     "metadata": {},
     "output_type": "execute_result"
    }
   ],
   "source": [
    "centers = rng.integers(0, 10, [N_CTRS, N_DIMS]) * 10\n",
    "centers"
   ]
  },
  {
   "cell_type": "code",
   "execution_count": 4,
   "id": "d450d735",
   "metadata": {},
   "outputs": [
    {
     "data": {
      "text/plain": [
       "array([[80, 70],\n",
       "       [60, 70],\n",
       "       [80, 90],\n",
       "       [79, 69],\n",
       "       [59, 69],\n",
       "       [79, 89],\n",
       "       [81, 71],\n",
       "       [61, 71],\n",
       "       [81, 91],\n",
       "       [78, 68],\n",
       "       [58, 68],\n",
       "       [78, 88],\n",
       "       [82, 72],\n",
       "       [62, 72],\n",
       "       [82, 92]])"
      ]
     },
     "execution_count": 4,
     "metadata": {},
     "output_type": "execute_result"
    }
   ],
   "source": [
    "points = np.concatenate([centers, centers - 1, centers + 1, centers - 2, centers + 2])\n",
    "points"
   ]
  },
  {
   "cell_type": "code",
   "execution_count": 33,
   "id": "f75f5402",
   "metadata": {},
   "outputs": [
    {
     "data": {
      "text/plain": [
       "array([80, 70, 60, 70, 80, 90, 79, 69, 59, 69, 79, 89, 81, 71, 61, 71, 81,\n",
       "       91, 78, 68, 58, 68, 78, 88, 82, 72, 62, 72, 82, 92])"
      ]
     },
     "execution_count": 33,
     "metadata": {},
     "output_type": "execute_result"
    }
   ],
   "source": [
    "points.reshape(-1)"
   ]
  },
  {
   "cell_type": "code",
   "execution_count": 5,
   "id": "0214be7d",
   "metadata": {},
   "outputs": [
    {
     "data": {
      "text/plain": [
       "array([0, 1, 2])"
      ]
     },
     "execution_count": 5,
     "metadata": {},
     "output_type": "execute_result"
    }
   ],
   "source": [
    "N_PTS = N_CTRS * 5\n",
    "init_idxs = np.arange(N_CTRS)\n",
    "init_idxs"
   ]
  },
  {
   "cell_type": "code",
   "execution_count": 6,
   "id": "3c409cf4",
   "metadata": {},
   "outputs": [
    {
     "name": "stdout",
     "output_type": "stream",
     "text": [
      "Initialization complete\n",
      "Iteration 0, inertia 60.0.\n",
      "Converged at iteration 0: center shift 0.0 within tolerance 0.009088888888888891.\n"
     ]
    },
    {
     "data": {
      "text/html": [
       "<style>#sk-container-id-1 {color: black;background-color: white;}#sk-container-id-1 pre{padding: 0;}#sk-container-id-1 div.sk-toggleable {background-color: white;}#sk-container-id-1 label.sk-toggleable__label {cursor: pointer;display: block;width: 100%;margin-bottom: 0;padding: 0.3em;box-sizing: border-box;text-align: center;}#sk-container-id-1 label.sk-toggleable__label-arrow:before {content: \"▸\";float: left;margin-right: 0.25em;color: #696969;}#sk-container-id-1 label.sk-toggleable__label-arrow:hover:before {color: black;}#sk-container-id-1 div.sk-estimator:hover label.sk-toggleable__label-arrow:before {color: black;}#sk-container-id-1 div.sk-toggleable__content {max-height: 0;max-width: 0;overflow: hidden;text-align: left;background-color: #f0f8ff;}#sk-container-id-1 div.sk-toggleable__content pre {margin: 0.2em;color: black;border-radius: 0.25em;background-color: #f0f8ff;}#sk-container-id-1 input.sk-toggleable__control:checked~div.sk-toggleable__content {max-height: 200px;max-width: 100%;overflow: auto;}#sk-container-id-1 input.sk-toggleable__control:checked~label.sk-toggleable__label-arrow:before {content: \"▾\";}#sk-container-id-1 div.sk-estimator input.sk-toggleable__control:checked~label.sk-toggleable__label {background-color: #d4ebff;}#sk-container-id-1 div.sk-label input.sk-toggleable__control:checked~label.sk-toggleable__label {background-color: #d4ebff;}#sk-container-id-1 input.sk-hidden--visually {border: 0;clip: rect(1px 1px 1px 1px);clip: rect(1px, 1px, 1px, 1px);height: 1px;margin: -1px;overflow: hidden;padding: 0;position: absolute;width: 1px;}#sk-container-id-1 div.sk-estimator {font-family: monospace;background-color: #f0f8ff;border: 1px dotted black;border-radius: 0.25em;box-sizing: border-box;margin-bottom: 0.5em;}#sk-container-id-1 div.sk-estimator:hover {background-color: #d4ebff;}#sk-container-id-1 div.sk-parallel-item::after {content: \"\";width: 100%;border-bottom: 1px solid gray;flex-grow: 1;}#sk-container-id-1 div.sk-label:hover label.sk-toggleable__label {background-color: #d4ebff;}#sk-container-id-1 div.sk-serial::before {content: \"\";position: absolute;border-left: 1px solid gray;box-sizing: border-box;top: 0;bottom: 0;left: 50%;z-index: 0;}#sk-container-id-1 div.sk-serial {display: flex;flex-direction: column;align-items: center;background-color: white;padding-right: 0.2em;padding-left: 0.2em;position: relative;}#sk-container-id-1 div.sk-item {position: relative;z-index: 1;}#sk-container-id-1 div.sk-parallel {display: flex;align-items: stretch;justify-content: center;background-color: white;position: relative;}#sk-container-id-1 div.sk-item::before, #sk-container-id-1 div.sk-parallel-item::before {content: \"\";position: absolute;border-left: 1px solid gray;box-sizing: border-box;top: 0;bottom: 0;left: 50%;z-index: -1;}#sk-container-id-1 div.sk-parallel-item {display: flex;flex-direction: column;z-index: 1;position: relative;background-color: white;}#sk-container-id-1 div.sk-parallel-item:first-child::after {align-self: flex-end;width: 50%;}#sk-container-id-1 div.sk-parallel-item:last-child::after {align-self: flex-start;width: 50%;}#sk-container-id-1 div.sk-parallel-item:only-child::after {width: 0;}#sk-container-id-1 div.sk-dashed-wrapped {border: 1px dashed gray;margin: 0 0.4em 0.5em 0.4em;box-sizing: border-box;padding-bottom: 0.4em;background-color: white;}#sk-container-id-1 div.sk-label label {font-family: monospace;font-weight: bold;display: inline-block;line-height: 1.2em;}#sk-container-id-1 div.sk-label-container {text-align: center;}#sk-container-id-1 div.sk-container {/* jupyter's `normalize.less` sets `[hidden] { display: none; }` but bootstrap.min.css set `[hidden] { display: none !important; }` so we also need the `!important` here to be able to override the default hidden behavior on the sphinx rendered scikit-learn.org. See: https://github.com/scikit-learn/scikit-learn/issues/21755 */display: inline-block !important;position: relative;}#sk-container-id-1 div.sk-text-repr-fallback {display: none;}</style><div id=\"sk-container-id-1\" class=\"sk-top-container\"><div class=\"sk-text-repr-fallback\"><pre>KMeans(init=array([[80, 70],\n",
       "       [60, 70],\n",
       "       [80, 90]]), n_clusters=3,\n",
       "       n_init=1, random_state=3985, verbose=1)</pre><b>In a Jupyter environment, please rerun this cell to show the HTML representation or trust the notebook. <br />On GitHub, the HTML representation is unable to render, please try loading this page with nbviewer.org.</b></div><div class=\"sk-container\" hidden><div class=\"sk-item\"><div class=\"sk-estimator sk-toggleable\"><input class=\"sk-toggleable__control sk-hidden--visually\" id=\"sk-estimator-id-1\" type=\"checkbox\" checked><label for=\"sk-estimator-id-1\" class=\"sk-toggleable__label sk-toggleable__label-arrow\">KMeans</label><div class=\"sk-toggleable__content\"><pre>KMeans(init=array([[80, 70],\n",
       "       [60, 70],\n",
       "       [80, 90]]), n_clusters=3,\n",
       "       n_init=1, random_state=3985, verbose=1)</pre></div></div></div></div></div>"
      ],
      "text/plain": [
       "KMeans(init=array([[80, 70],\n",
       "       [60, 70],\n",
       "       [80, 90]]), n_clusters=3,\n",
       "       n_init=1, random_state=3985, verbose=1)"
      ]
     },
     "execution_count": 6,
     "metadata": {},
     "output_type": "execute_result"
    }
   ],
   "source": [
    "from sklearn.cluster import KMeans\n",
    "km = KMeans(\n",
    "    n_clusters=N_CTRS, init=points[init_idxs], n_init=1, max_iter=300,\n",
    "    random_state=3985, algorithm='lloyd', verbose=1\n",
    ")\n",
    "km.fit(points)"
   ]
  },
  {
   "cell_type": "code",
   "execution_count": 7,
   "id": "aa29c471",
   "metadata": {},
   "outputs": [
    {
     "data": {
      "text/plain": [
       "array([[80, 70],\n",
       "       [60, 70],\n",
       "       [80, 90]], dtype=int32)"
      ]
     },
     "execution_count": 7,
     "metadata": {},
     "output_type": "execute_result"
    }
   ],
   "source": [
    "np.int32(km.cluster_centers_)"
   ]
  },
  {
   "cell_type": "markdown",
   "id": "aefb0412",
   "metadata": {},
   "source": [
    "### Matrix Version"
   ]
  },
  {
   "cell_type": "code",
   "execution_count": 6,
   "id": "4e8a8d98",
   "metadata": {},
   "outputs": [
    {
     "name": "stdout",
     "output_type": "stream",
     "text": [
      "N_PTS=15, N_CTRS=3, N_DIMS=2\n"
     ]
    }
   ],
   "source": [
    "def dim_info():\n",
    "    print(f'N_PTS={N_PTS}, N_CTRS={N_CTRS}, N_DIMS={N_DIMS}')\n",
    "dim_info()"
   ]
  },
  {
   "cell_type": "code",
   "execution_count": 7,
   "id": "0d68f0af",
   "metadata": {},
   "outputs": [
    {
     "data": {
      "text/plain": [
       "((2, 3), (2, 15))"
      ]
     },
     "execution_count": 7,
     "metadata": {},
     "output_type": "execute_result"
    }
   ],
   "source": [
    "C = centers.T\n",
    "P = points.T\n",
    "C.shape, P.shape"
   ]
  },
  {
   "cell_type": "markdown",
   "id": "77ba4f8f",
   "metadata": {},
   "source": [
    "#### Compute Pairwise Squared Norm"
   ]
  },
  {
   "cell_type": "code",
   "execution_count": 8,
   "id": "32ad2520",
   "metadata": {},
   "outputs": [
    {
     "data": {
      "text/plain": [
       "array([[  0, 400, 400,   2, 442, 362,   2, 362, 442,   8, 488, 328,   8,\n",
       "        328, 488],\n",
       "       [400,   0, 800, 362,   2, 722, 442,   2, 882, 328,   8, 648, 488,\n",
       "          8, 968],\n",
       "       [400, 800,   0, 442, 882,   2, 362, 722,   2, 488, 968,   8, 328,\n",
       "        648,   8]])"
      ]
     },
     "execution_count": 8,
     "metadata": {},
     "output_type": "execute_result"
    }
   ],
   "source": [
    "sqr_norm_c = np.ones([1, N_DIMS]) @ (C ** 2)\n",
    "sqr_norm_p = np.ones([1, N_DIMS]) @ (P ** 2)\n",
    "pw_sqr_norm = -2 * (C.T @ P)\n",
    "\n",
    "for i in range(N_CTRS):\n",
    "    for j in range(N_PTS):\n",
    "        pw_sqr_norm[i, j] += sqr_norm_c[0, i] + sqr_norm_p[0, j]\n",
    "pw_sqr_norm"
   ]
  },
  {
   "cell_type": "markdown",
   "id": "8660c425",
   "metadata": {},
   "source": [
    "#### Find Mean Index"
   ]
  },
  {
   "cell_type": "code",
   "execution_count": 9,
   "id": "cd2467f7",
   "metadata": {},
   "outputs": [
    {
     "name": "stdout",
     "output_type": "stream",
     "text": [
      "N_PTS=15, N_CTRS=3, N_DIMS=2\n"
     ]
    },
    {
     "data": {
      "text/plain": [
       "(3, 15)"
      ]
     },
     "execution_count": 9,
     "metadata": {},
     "output_type": "execute_result"
    }
   ],
   "source": [
    "dim_info()\n",
    "pw_sqr_norm.shape"
   ]
  },
  {
   "cell_type": "code",
   "execution_count": 10,
   "id": "996f62c5",
   "metadata": {},
   "outputs": [
    {
     "data": {
      "text/plain": [
       "array([0, 1, 2, 0, 1, 2, 0, 1, 2, 0, 1, 2, 0, 1, 2])"
      ]
     },
     "execution_count": 10,
     "metadata": {},
     "output_type": "execute_result"
    }
   ],
   "source": [
    "m_idxs = np.argmin(pw_sqr_norm, axis=0)\n",
    "m_idxs"
   ]
  },
  {
   "cell_type": "markdown",
   "id": "0a4e8820",
   "metadata": {},
   "source": [
    "#### Create Summation Matrix"
   ]
  },
  {
   "cell_type": "code",
   "execution_count": 11,
   "id": "7edd2f5c",
   "metadata": {},
   "outputs": [
    {
     "data": {
      "text/plain": [
       "(array([[1., 0., 0.],\n",
       "        [0., 1., 0.],\n",
       "        [0., 0., 1.],\n",
       "        [1., 0., 0.],\n",
       "        [0., 1., 0.],\n",
       "        [0., 0., 1.],\n",
       "        [1., 0., 0.],\n",
       "        [0., 1., 0.],\n",
       "        [0., 0., 1.],\n",
       "        [1., 0., 0.],\n",
       "        [0., 1., 0.],\n",
       "        [0., 0., 1.],\n",
       "        [1., 0., 0.],\n",
       "        [0., 1., 0.],\n",
       "        [0., 0., 1.]]),\n",
       " (15, 3))"
      ]
     },
     "execution_count": 11,
     "metadata": {},
     "output_type": "execute_result"
    }
   ],
   "source": [
    "sum_m = np.zeros([N_PTS, N_CTRS])\n",
    "for i in range(N_PTS):\n",
    "    sum_m[i, m_idxs[i]] = 1.0\n",
    "sum_m, sum_m.shape"
   ]
  },
  {
   "cell_type": "code",
   "execution_count": 12,
   "id": "ae52539e",
   "metadata": {},
   "outputs": [
    {
     "data": {
      "text/plain": [
       "array([[80, 60, 80, 79, 59, 79, 81, 61, 81, 78, 58, 78, 82, 62, 82],\n",
       "       [70, 70, 90, 69, 69, 89, 71, 71, 91, 68, 68, 88, 72, 72, 92]])"
      ]
     },
     "execution_count": 12,
     "metadata": {},
     "output_type": "execute_result"
    }
   ],
   "source": [
    "P"
   ]
  },
  {
   "cell_type": "code",
   "execution_count": 13,
   "id": "3a668f84",
   "metadata": {},
   "outputs": [
    {
     "data": {
      "text/plain": [
       "array([[400., 300., 400.],\n",
       "       [350., 350., 450.]])"
      ]
     },
     "execution_count": 13,
     "metadata": {},
     "output_type": "execute_result"
    }
   ],
   "source": [
    "P @ sum_m"
   ]
  },
  {
   "cell_type": "code",
   "execution_count": 16,
   "id": "4c5208dd",
   "metadata": {},
   "outputs": [
    {
     "name": "stdout",
     "output_type": "stream",
     "text": [
      "N_PTS=15, N_CTRS=3, N_DIMS=2\n"
     ]
    }
   ],
   "source": [
    "dim_info()"
   ]
  },
  {
   "cell_type": "code",
   "execution_count": 17,
   "id": "80580c67",
   "metadata": {},
   "outputs": [
    {
     "data": {
      "text/plain": [
       "array([[1., 0., 0.],\n",
       "       [0., 1., 0.],\n",
       "       [0., 0., 1.],\n",
       "       [1., 0., 0.],\n",
       "       [0., 1., 0.],\n",
       "       [0., 0., 1.],\n",
       "       [1., 0., 0.],\n",
       "       [0., 1., 0.],\n",
       "       [0., 0., 1.],\n",
       "       [1., 0., 0.],\n",
       "       [0., 1., 0.],\n",
       "       [0., 0., 1.],\n",
       "       [1., 0., 0.],\n",
       "       [0., 1., 0.],\n",
       "       [0., 0., 1.]])"
      ]
     },
     "execution_count": 17,
     "metadata": {},
     "output_type": "execute_result"
    }
   ],
   "source": [
    "sum_m = np.ones([N_PTS, N_CTRS]) * -1\n",
    "for i in range(N_PTS):\n",
    "    for j in range(N_CTRS):\n",
    "        sum_m[i, j] = 1.0 if j == m_idxs[i] else 0.0\n",
    "sum_m"
   ]
  },
  {
   "cell_type": "markdown",
   "id": "749a64e8",
   "metadata": {},
   "source": [
    "#### Create Cluster Size Matrix"
   ]
  },
  {
   "cell_type": "code",
   "execution_count": 18,
   "id": "4a333521",
   "metadata": {},
   "outputs": [
    {
     "name": "stdout",
     "output_type": "stream",
     "text": [
      "N_PTS=15, N_CTRS=3, N_DIMS=2\n"
     ]
    }
   ],
   "source": [
    "dim_info()"
   ]
  },
  {
   "cell_type": "code",
   "execution_count": 19,
   "id": "4660b210",
   "metadata": {},
   "outputs": [
    {
     "data": {
      "text/plain": [
       "array([5., 5., 5.])"
      ]
     },
     "execution_count": 19,
     "metadata": {},
     "output_type": "execute_result"
    }
   ],
   "source": [
    "cluster_size = np.zeros([N_CTRS])\n",
    "for i in range(N_PTS):\n",
    "    cluster_size[m_idxs[i]] += 1\n",
    "\n",
    "cluster_size"
   ]
  },
  {
   "cell_type": "code",
   "execution_count": 84,
   "id": "4f601ba5",
   "metadata": {},
   "outputs": [
    {
     "name": "stdout",
     "output_type": "stream",
     "text": [
      "N_PTS=15, N_CTRS=3, N_DIMS=2\n"
     ]
    }
   ],
   "source": [
    "dim_info()"
   ]
  },
  {
   "cell_type": "code",
   "execution_count": 87,
   "id": "d047241a",
   "metadata": {},
   "outputs": [
    {
     "data": {
      "text/plain": [
       "((2, 15), (15, 3), (3,))"
      ]
     },
     "execution_count": 87,
     "metadata": {},
     "output_type": "execute_result"
    }
   ],
   "source": [
    "P.shape, sum_m.shape, cluster_size.shape"
   ]
  },
  {
   "cell_type": "code",
   "execution_count": 100,
   "id": "46d05a7e",
   "metadata": {},
   "outputs": [
    {
     "data": {
      "text/plain": [
       "array([[ 50., 250., 400.],\n",
       "       [250., 400.,   0.]])"
      ]
     },
     "execution_count": 100,
     "metadata": {},
     "output_type": "execute_result"
    }
   ],
   "source": [
    "new_m = P @ sum_m\n",
    "new_m"
   ]
  },
  {
   "cell_type": "code",
   "execution_count": 101,
   "id": "5ab578c1",
   "metadata": {},
   "outputs": [
    {
     "data": {
      "text/plain": [
       "array([[10., 50., 80.],\n",
       "       [50., 80.,  0.]])"
      ]
     },
     "execution_count": 101,
     "metadata": {},
     "output_type": "execute_result"
    }
   ],
   "source": [
    "for i in range(N_CTRS):\n",
    "    for j in range(N_DIMS):\n",
    "        new_m[j, i] = new_m[j, i] / cluster_size[i]\n",
    "new_m"
   ]
  },
  {
   "cell_type": "markdown",
   "id": "c1a5ec1e",
   "metadata": {},
   "source": [
    "#### Create Average Matrix"
   ]
  },
  {
   "cell_type": "code",
   "execution_count": 22,
   "id": "8a294f19",
   "metadata": {},
   "outputs": [
    {
     "name": "stdout",
     "output_type": "stream",
     "text": [
      "N_PTS=15, N_CTRS=3, N_DIMS=2\n"
     ]
    }
   ],
   "source": [
    "dim_info()"
   ]
  },
  {
   "cell_type": "code",
   "execution_count": 23,
   "id": "93753190",
   "metadata": {},
   "outputs": [
    {
     "data": {
      "text/plain": [
       "array([5., 5., 5.])"
      ]
     },
     "execution_count": 23,
     "metadata": {},
     "output_type": "execute_result"
    }
   ],
   "source": [
    "cluster_size = np.zeros([N_CTRS])\n",
    "for i in range(N_PTS):\n",
    "    cluster_size[m_idxs[i]] += 1\n",
    "\n",
    "cluster_size"
   ]
  },
  {
   "cell_type": "code",
   "execution_count": 25,
   "id": "b55e3d59",
   "metadata": {},
   "outputs": [
    {
     "data": {
      "text/plain": [
       "array([[0.2, 0. , 0. ],\n",
       "       [0. , 0.2, 0. ],\n",
       "       [0. , 0. , 0.2],\n",
       "       [0.2, 0. , 0. ],\n",
       "       [0. , 0.2, 0. ],\n",
       "       [0. , 0. , 0.2],\n",
       "       [0.2, 0. , 0. ],\n",
       "       [0. , 0.2, 0. ],\n",
       "       [0. , 0. , 0.2],\n",
       "       [0.2, 0. , 0. ],\n",
       "       [0. , 0.2, 0. ],\n",
       "       [0. , 0. , 0.2],\n",
       "       [0.2, 0. , 0. ],\n",
       "       [0. , 0.2, 0. ],\n",
       "       [0. , 0. , 0.2]])"
      ]
     },
     "execution_count": 25,
     "metadata": {},
     "output_type": "execute_result"
    }
   ],
   "source": [
    "avg = np.ones([N_PTS, N_CTRS]) * -1\n",
    "for i in range(N_PTS):\n",
    "    for j in range(N_CTRS):\n",
    "        avg[i, j] = 1.0 / cluster_size[j] if j == m_idxs[i] else 0.0\n",
    "avg"
   ]
  },
  {
   "cell_type": "markdown",
   "id": "37803134",
   "metadata": {},
   "source": [
    "### Putting Everything Together"
   ]
  },
  {
   "cell_type": "code",
   "execution_count": 26,
   "id": "324e8911",
   "metadata": {},
   "outputs": [],
   "source": [
    "def matrix_kmeans(points, means, N_PTS, N_CTRS, N_DIMS):\n",
    "    '''\n",
    "    Inputs:\n",
    "        points: [N_DIMS, N_PTS]\n",
    "        means:  [N_DIMS, N_CTRS]\n",
    "    Output:\n",
    "        new_means: [N_DIMS, N_CTRS]\n",
    "    '''\n",
    "    # Compute squared norm for points and means (Matmul or kernel)\n",
    "    eye_dim = np.ones([1, N_DIMS])\n",
    "    sqr_norm_c = eye_dim @ (means ** 2)   # [1, N_CTRS]\n",
    "    sqr_norm_p = eye_dim @ (points ** 2)  # [1, N_PTS]\n",
    "\n",
    "    # Compute pairwise squared distance middle term (Matmul)\n",
    "    pw_sqr_dist = -2 * (means.T @ points)  # [N_CTRS, N_PTS]\n",
    "\n",
    "    # Add squared norm terms to pairwise squared distance (Kernel)\n",
    "    for i in range(N_CTRS):\n",
    "        for j in range(N_PTS):\n",
    "            pw_sqr_dist[i, j] += sqr_norm_c[0, i] + sqr_norm_p[0, j]\n",
    "\n",
    "    # Find index for minimum index (Matmul)\n",
    "    m_idxs = np.argmin(pw_sqr_dist, axis=0)  # [1, N_PTS]\n",
    "\n",
    "#     # Create summation matrix and count cluster_sizes (Kernel)\n",
    "#     sum_m = np.zeros([N_PTS, N_CTRS])\n",
    "#     cluster_sizes = np.zeros([N_CTRS])\n",
    "#     for i in range(N_PTS):\n",
    "#         sum_m[i, m_idxs[i]] = 1.0\n",
    "#         cluster_sizes[m_idxs[i]] += 1\n",
    "\n",
    "#     # Perform summation (Matmul)\n",
    "#     new_means = points @ sum_m\n",
    "\n",
    "#     # Average by cluster size (Kernel)\n",
    "#     for i in range(N_CTRS):\n",
    "#         for j in range(N_DIMS):\n",
    "#             new_means[j, i] = new_means[j, i] / cluster_sizes[i]\n",
    "    # Create average matrix\n",
    "    cluster_size = np.zeros([N_CTRS])\n",
    "    for i in range(N_PTS):\n",
    "        cluster_size[m_idxs[i]] += 1\n",
    "    avg = np.ones([N_PTS, N_CTRS]) * -1\n",
    "    for i in range(N_PTS):\n",
    "        for j in range(N_CTRS):\n",
    "            avg[i, j] = 1.0 / cluster_size[j] if j == m_idxs[i] else 0.0\n",
    "    new_means = points @ avg\n",
    "\n",
    "    return new_means"
   ]
  },
  {
   "cell_type": "code",
   "execution_count": 27,
   "id": "d0bd99c9",
   "metadata": {},
   "outputs": [
    {
     "data": {
      "text/plain": [
       "array([[80., 60., 80.],\n",
       "       [70., 70., 90.]])"
      ]
     },
     "execution_count": 27,
     "metadata": {},
     "output_type": "execute_result"
    }
   ],
   "source": [
    "matrix_kmeans(points.T, points[init_idxs].T, N_PTS, N_CTRS, N_DIMS)"
   ]
  },
  {
   "cell_type": "code",
   "execution_count": 14,
   "id": "b1369809",
   "metadata": {},
   "outputs": [
    {
     "data": {
      "text/plain": [
       "array([[80, 60, 80],\n",
       "       [70, 70, 90]], dtype=int32)"
      ]
     },
     "execution_count": 14,
     "metadata": {},
     "output_type": "execute_result"
    }
   ],
   "source": [
    "np.int32(km.cluster_centers_).T"
   ]
  },
  {
   "cell_type": "code",
   "execution_count": null,
   "id": "2d52d007",
   "metadata": {},
   "outputs": [],
   "source": []
  }
 ],
 "metadata": {
  "kernelspec": {
   "display_name": "Python 3 (ipykernel)",
   "language": "python",
   "name": "python3"
  },
  "language_info": {
   "codemirror_mode": {
    "name": "ipython",
    "version": 3
   },
   "file_extension": ".py",
   "mimetype": "text/x-python",
   "name": "python",
   "nbconvert_exporter": "python",
   "pygments_lexer": "ipython3",
   "version": "3.8.10"
  }
 },
 "nbformat": 4,
 "nbformat_minor": 5
}
